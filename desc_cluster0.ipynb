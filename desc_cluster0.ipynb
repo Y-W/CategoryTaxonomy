{
 "cells": [
  {
   "cell_type": "markdown",
   "metadata": {},
   "source": [
    "Hierarchical Clustering for Description Dataset\n",
    "=========================="
   ]
  },
  {
   "cell_type": "code",
   "execution_count": 1,
   "metadata": {
    "collapsed": true
   },
   "outputs": [],
   "source": [
    "import numpy as np\n",
    "from sklearn.cluster import spectral_clustering\n",
    "import csv\n",
    "from collections import defaultdict"
   ]
  },
  {
   "cell_type": "code",
   "execution_count": 2,
   "metadata": {
    "collapsed": true
   },
   "outputs": [],
   "source": [
    "mtx = np.loadtxt('jsd_sim.csv', delimiter=',')"
   ]
  },
  {
   "cell_type": "code",
   "execution_count": 3,
   "metadata": {
    "collapsed": false
   },
   "outputs": [],
   "source": [
    "catNameFile = 'categoryKey.csv'\n",
    "catName = {}\n",
    "with open(catNameFile) as fin:\n",
    "    r = csv.reader(fin)\n",
    "    for row in r:\n",
    "        catName[int(row[0])] = row[1]\n",
    "catList = sorted(catName.keys())"
   ]
  },
  {
   "cell_type": "code",
   "execution_count": 4,
   "metadata": {
    "collapsed": true
   },
   "outputs": [],
   "source": [
    "labels = spectral_clustering(mtx, n_clusters=8, eigen_solver='arpack')"
   ]
  },
  {
   "cell_type": "code",
   "execution_count": 5,
   "metadata": {
    "collapsed": false
   },
   "outputs": [
    {
     "name": "stdout",
     "output_type": "stream",
     "text": [
      "0 1048 ['abbey', 'abutment arch', 'access road', 'acropolis', 'africa', 'agora', 'agriculture', 'air field', 'airlock', 'airplane', 'airplane cabin', 'airport', 'airport', 'airport entrance', 'airport terminal', 'airport ticket counter', 'aisle', 'alaska', 'alcazar', 'alcove']\n",
      "1 1 ['suvic']\n",
      "2 1 ['guest room']\n",
      "3 1 ['cascade']\n",
      "4 1 ['waterfall']\n",
      "5 1 ['waterfall (cataract)']\n",
      "6 1 ['cataract']\n",
      "7 1 ['waterfall (cascade)']\n"
     ]
    }
   ],
   "source": [
    "rest = defaultdict(list)\n",
    "for l, c in zip(labels, catList):\n",
    "    rest[l].append(catName[c])\n",
    "for l in sorted(rest.keys()):\n",
    "    print l, len(rest[l]), rest[l][:20]"
   ]
  },
  {
   "cell_type": "code",
   "execution_count": null,
   "metadata": {
    "collapsed": true
   },
   "outputs": [],
   "source": []
  }
 ],
 "metadata": {
  "kernelspec": {
   "display_name": "Python 2",
   "language": "python",
   "name": "python2"
  },
  "language_info": {
   "codemirror_mode": {
    "name": "ipython",
    "version": 2
   },
   "file_extension": ".py",
   "mimetype": "text/x-python",
   "name": "python",
   "nbconvert_exporter": "python",
   "pygments_lexer": "ipython2",
   "version": "2.7.6"
  }
 },
 "nbformat": 4,
 "nbformat_minor": 0
}
