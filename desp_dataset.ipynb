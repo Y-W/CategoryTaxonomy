{
 "cells": [
  {
   "cell_type": "markdown",
   "metadata": {},
   "source": [
    "Unrestricted Image Description Dataset\n",
    "====================="
   ]
  },
  {
   "cell_type": "code",
   "execution_count": 33,
   "metadata": {
    "collapsed": true
   },
   "outputs": [],
   "source": [
    "import os\n",
    "import sys\n",
    "import subprocess\n",
    "import csv\n",
    "import re\n",
    "import collections\n",
    "\n",
    "rawDir = 'rawData/'\n",
    "tmpRawFilePrefix = 'rawData/raw'"
   ]
  },
  {
   "cell_type": "code",
   "execution_count": 28,
   "metadata": {
    "collapsed": false
   },
   "outputs": [],
   "source": [
    "# Transforming raw file from Mac OS style to *nix style\n",
    "allRawFiles = sorted([os.path.join(rawDir,f) for f in os.listdir(rawDir) if os.path.isfile(os.path.join(rawDir,f))])\n",
    "tmpRawFiles = []\n",
    "for i, f in enumerate(allRawFiles):\n",
    "    with open(f) as fin:\n",
    "        tmpRaw = tmpRawFilePrefix+str(i)+'.csv'\n",
    "        tmpRawFiles.append(tmpRaw)\n",
    "        with open(tmpRaw, 'w') as fout:\n",
    "            subprocess.call(['tr', '\\\\r', '\\\\n'], stdin=fin, stdout=fout)"
   ]
  },
  {
   "cell_type": "code",
   "execution_count": 29,
   "metadata": {
    "collapsed": false
   },
   "outputs": [],
   "source": [
    "# Collecting raw inputs into one table\n",
    "rawDesc = [] # list of tuples of (image_hash, image_category_id, description)\n",
    "rawIdentity = [] # list of tuples of (image_hash_1, image_category_id_1, image_hash_2, image_category_id_2, is_same)\n",
    "headers = None\n",
    "urlFormat = re.compile('^http://stanford.edu/~mrgreene/SCENE_CATEGORIES/\\d+/\\w*\\.\\w+$')\n",
    "for f in tmpRawFiles:\n",
    "    with open(f) as fin:\n",
    "        csvReader = csv.reader(fin)\n",
    "        firstRow = True\n",
    "        for row in csvReader:\n",
    "            if firstRow:\n",
    "                firstRow = False\n",
    "                if headers is None:\n",
    "                    headers = row\n",
    "                else:\n",
    "                    if headers != row:\n",
    "                        raise RuntimeError('Headers does not match!')\n",
    "            else:\n",
    "                if len(row) != len(headers):\n",
    "                    raise RuntimeError('Row corrupted!')\n",
    "                imagePresented = {}\n",
    "                identityAnswer = {}\n",
    "                descAnswer = {}\n",
    "                for h, c in zip(headers, row):\n",
    "                    if h.startswith('Input.image_'):\n",
    "                        imageId = int(h[len('Input.image_'):])\n",
    "                        if urlFormat.match(c) is None:\n",
    "                            print c, row\n",
    "                            raise RuntimeError('Do not understand url.')\n",
    "                        c = c[len('http://stanford.edu/~mrgreene/SCENE_CATEGORIES/'):].split('/')\n",
    "                        imagePresented[imageId] = (c[1], int(c[0]))\n",
    "                    elif h.startswith('Answer.category_name'):\n",
    "                        if c != '':\n",
    "                            ansId = int(h[len('Answer.category_name'):])\n",
    "                            descAnswer[ansId] = c\n",
    "                    elif h.startswith('Answer.category'):\n",
    "                        if c != '':\n",
    "                            ansId = int(h[len('Answer.category'):])\n",
    "                            if c != 'same' and c != 'different':\n",
    "                                print c, row\n",
    "                                raise RuntimeError('Not same nor different.')\n",
    "                            identityAnswer[ansId] = (c == 'same')\n",
    "                for i, ans in identityAnswer.iteritems():\n",
    "                    rawIdentity.append(imagePresented[i*2-1] + imagePresented[i*2] + (ans,))\n",
    "                for i, ans in descAnswer.iteritems():\n",
    "                    rawDesc.append(imagePresented[i*2-1]+(ans, ))"
   ]
  },
  {
   "cell_type": "markdown",
   "metadata": {},
   "source": [
    "Note the special URL of http://stanford.edu/~mrgreene/SCENE_CATEGORIES/141/.jpg"
   ]
  },
  {
   "cell_type": "code",
   "execution_count": 31,
   "metadata": {
    "collapsed": false
   },
   "outputs": [],
   "source": [
    "# Save the output in one file\n",
    "with open('rawDesc.csv', 'w') as fout:\n",
    "    csvWriter = csv.writer(fout)\n",
    "    csvWriter.writerow(['image_filename', 'image_category_id', 'description'])\n",
    "    for data in rawDesc:\n",
    "        csvWriter.writerow(data)\n",
    "with open('rawIdentity.csv', 'w') as fout:\n",
    "    csvWriter = csv.writer(fout)\n",
    "    csvWriter.writerow(['image_filename_1', 'image_category_id_1',\n",
    "                         'image_filename_2', 'image_category_id_2', 'is_same'])\n",
    "    for data in rawIdentity:\n",
    "        csvWriter.writerow(data)"
   ]
  },
  {
   "cell_type": "code",
   "execution_count": null,
   "metadata": {
    "collapsed": true
   },
   "outputs": [],
   "source": []
  }
 ],
 "metadata": {
  "kernelspec": {
   "display_name": "Python 2",
   "language": "python",
   "name": "python2"
  },
  "language_info": {
   "codemirror_mode": {
    "name": "ipython",
    "version": 2
   },
   "file_extension": ".py",
   "mimetype": "text/x-python",
   "name": "python",
   "nbconvert_exporter": "python",
   "pygments_lexer": "ipython2",
   "version": "2.7.6"
  }
 },
 "nbformat": 4,
 "nbformat_minor": 0
}
