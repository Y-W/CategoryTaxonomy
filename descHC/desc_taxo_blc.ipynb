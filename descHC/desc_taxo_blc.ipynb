{
 "cells": [
  {
   "cell_type": "markdown",
   "metadata": {},
   "source": [
    "Finding basic level categoies\n",
    "================"
   ]
  },
  {
   "cell_type": "code",
   "execution_count": 30,
   "metadata": {
    "collapsed": false
   },
   "outputs": [],
   "source": [
    "%matplotlib inline\n",
    "\n",
    "import matplotlib.pyplot as plt\n",
    "import matplotlib.colors as pltColors\n",
    "import numpy as np\n",
    "from scipy.sparse import csr_matrix\n",
    "from scipy.sparse.linalg import svds\n",
    "from scipy.spatial.distance import cosine\n",
    "import csv\n",
    "from collections import Counter, defaultdict\n",
    "from sklearn.preprocessing import normalize\n",
    "from numpy.linalg import norm\n",
    "from numpy.linalg import pinv\n",
    "from scipy.stats import linregress\n",
    "import scipy.io as sio\n",
    "from math import log\n",
    "import gzip\n",
    "import pickle\n",
    "from scipy.stats import entropy\n",
    "from sklearn.preprocessing import scale\n",
    "from scipy.stats import linregress\n",
    "from math import log10\n",
    "log2 = lambda x: log(x, 2)\n",
    "lstDiv = lambda x, y: [a / b for a, b in zip(x, y)]"
   ]
  },
  {
   "cell_type": "code",
   "execution_count": 44,
   "metadata": {
    "collapsed": false
   },
   "outputs": [
    {
     "name": "stdout",
     "output_type": "stream",
     "text": [
      "['category_id', 'description', 'count']\n",
      "True\n",
      "(1055, 1055)\n",
      "['description', 'JointProb']\n",
      "Dup 1106 763\n",
      "1055\n"
     ]
    }
   ],
   "source": [
    "# Load files\n",
    "inputFile = 'data/cat_desc_wn.csv'\n",
    "headers = None\n",
    "descCnt = Counter()\n",
    "catCnt = Counter()\n",
    "descCatCnt = defaultdict(Counter)\n",
    "with open(inputFile) as fin:\n",
    "    r = csv.reader(fin)\n",
    "    for row in r:\n",
    "        if headers is None:\n",
    "            headers = row\n",
    "            print headers\n",
    "        else:\n",
    "            cat, desc, cnt = row\n",
    "            cat = int(cat) - 1\n",
    "            cnt = int(cnt)\n",
    "            descCnt[desc] += cnt\n",
    "            catCnt[cat] += cnt\n",
    "            descCatCnt[desc][cat] += cnt\n",
    "\n",
    "catNameFile = 'data/categoryKey.csv'\n",
    "catName = {}\n",
    "with open(catNameFile) as fin:\n",
    "    r = csv.reader(fin)\n",
    "    for row in r:\n",
    "        catName[int(row[0]) - 1] = row[1]\n",
    "\n",
    "print range(len(catName)) == catName.keys() and range(len(catName)) == catCnt.keys()\n",
    "\n",
    "simMtxGTFile = 'data/largeSimMatrix.mat'\n",
    "simMtxGT = sio.loadmat(simMtxGTFile)['largeSimMatrix']\n",
    "print simMtxGT.shape\n",
    "\n",
    "wordFreqFile = 'data/GNGramFreq.csv'\n",
    "wordFreqHeader = None\n",
    "wordFreq = {}\n",
    "with open(wordFreqFile) as fin:\n",
    "    r = csv.reader(fin)\n",
    "    for row in r:\n",
    "        if wordFreqHeader is None:\n",
    "            wordFreqHeader = row\n",
    "            print wordFreqHeader\n",
    "        else:\n",
    "            desc, freq = row\n",
    "            freq = float(freq)\n",
    "            if freq == 0.0:\n",
    "                continue\n",
    "            logFreq = log10(float(freq))\n",
    "            wordFreq[desc] = logFreq\n",
    "\n",
    "taxoTreeFile = 'model/taxoTree_1200_0.pickle.gz'\n",
    "with gzip.open(taxoTreeFile, 'rb') as fin:\n",
    "    nodeLst = pickle.load(fin)\n",
    "taxoWordLst = [x[0] for x in nodeLst if len(x[2]) > 0]\n",
    "print 'Dup', len(taxoWordLst), len(set(taxoWordLst))\n",
    "nodeSpan = [0] * len(nodeLst)\n",
    "for i in xrange(len(nodeLst) - 1, -1, -1):\n",
    "    if len(nodeLst[i][2]) == 0:\n",
    "        nodeSpan[i] = 1\n",
    "    else:\n",
    "        tmp = 0\n",
    "        for x in nodeLst[i][2]:\n",
    "            tmp += nodeSpan[x]\n",
    "        nodeSpan[i] = tmp\n",
    "print nodeSpan[0]\n",
    "descSpan = Counter()\n",
    "for i, x in enumerate(nodeSpan):\n",
    "    w = nodeLst[i][0]\n",
    "    descSpan[w] = max(descSpan[w], x)"
   ]
  },
  {
   "cell_type": "code",
   "execution_count": 33,
   "metadata": {
    "collapsed": false
   },
   "outputs": [],
   "source": [
    "# # Remove pular words in dictionary\n",
    "# tmpDict = Counter()\n",
    "# for k, v in wordFreq.iteritems():\n",
    "#     if k[-1] == 's' and wordFreq[k[:-1]] > v:\n",
    "#         tmpDict[k[:-1]] += v\n",
    "#     else:\n",
    "#         tmpDict[k] += v\n",
    "# wordFreq = tmpDict"
   ]
  },
  {
   "cell_type": "code",
   "execution_count": 34,
   "metadata": {
    "collapsed": false
   },
   "outputs": [
    {
     "name": "stdout",
     "output_type": "stream",
     "text": [
      "763 2917\n",
      "2179206 4450878\n",
      "[214224.0, 123172.0, 117897.0, 79407.0, 73395.0, 68713.0, 62279.0, 61741.0, 54708.0, 54245.0]\n"
     ]
    }
   ],
   "source": [
    "# filter descriptions\n",
    "# threshold = 100\n",
    "descList = [d for d, c in descCnt.most_common() if d in taxoWordLst and d in wordFreq]\n",
    "descId = {d:i for i, d in enumerate(descList)}\n",
    "descFreq = [float(descCnt[d]) for d in descList]\n",
    "descWordCnt = [len(w.split()) for w in descList]\n",
    "print len(descList), len(descCnt)\n",
    "print sum(descCnt[d] for d in descList), sum(descCnt.itervalues())\n",
    "print descFreq[:10]\n",
    "filterWordNum = lambda lst, k: [a for a, b in zip(lst, descWordCnt) if b == k]"
   ]
  },
  {
   "cell_type": "code",
   "execution_count": 35,
   "metadata": {
    "collapsed": false
   },
   "outputs": [],
   "source": [
    "# Effectiveness score\n",
    "descDistMtx = np.zeros((len(descList), len(catName)))\n",
    "for i, desc in enumerate(descList):\n",
    "    sumOccur = float(descCnt[desc])\n",
    "    for c, v in descCatCnt[desc].iteritems():\n",
    "        descDistMtx[i, c] = v / sumOccur\n",
    "tmpMtx = descDistMtx.dot(simMtxGT)\n",
    "s1_1 = []\n",
    "for i, desc in enumerate(descList):\n",
    "    s1_1.append(-log2(np.dot(tmpMtx[i], descDistMtx[i])))\n",
    "s1_1 = scale(s1_1)\n",
    "\n",
    "s1_2 = []\n",
    "for i, desc in enumerate(descList):\n",
    "    s1_2.append(entropy(descDistMtx[i]))\n",
    "s1_2 = scale(s1_2)"
   ]
  },
  {
   "cell_type": "code",
   "execution_count": 36,
   "metadata": {
    "collapsed": false
   },
   "outputs": [],
   "source": [
    "# Cost score\n",
    "s2_1 = []\n",
    "for desc in descList:\n",
    "    s2_1.append(float(len(desc)))\n",
    "s2_1 = scale(s2_1)\n",
    "\n",
    "s2_2 = []\n",
    "charSet = set('aeiouy')\n",
    "for desc in descList:\n",
    "    s2_2.append(float(len([c for c in desc if c in charSet])))\n",
    "s2_2 = scale(s2_2)\n",
    "\n",
    "s2_3 = []\n",
    "for desc in descList:\n",
    "    s2_3.append(-wordFreq[desc])\n",
    "s2_3 = scale(s2_3)\n",
    "\n",
    "s2_4 = []\n",
    "for desc in descList:\n",
    "    s2_4.append(log2(sum(descCnt.itervalues())) - log2(descCnt[desc]))\n",
    "s2_4 = scale(s2_4)"
   ]
  },
  {
   "cell_type": "code",
   "execution_count": 48,
   "metadata": {
    "collapsed": false
   },
   "outputs": [
    {
     "data": {
      "image/png": "[encoded data removed]",
      "text/plain": [
       "<matplotlib.figure.Figure at 0x7fd3ac590b10>"
      ]
     },
     "metadata": {},
     "output_type": "display_data"
    }
   ],
   "source": [
    "fig = plt.figure(figsize=(12, 9))\n",
    "ax = fig.add_subplot(1,1,1)\n",
    "scat = ax.scatter(s1_1, s2_4, c=[descSpan[w] for w in descList], s=10, edgecolor='', norm=pltColors.LogNorm())# , norm=pltColors.LogNorm())\n",
    "cbar = fig.colorbar(scat, ax=ax)\n",
    "# ax.set_xscale('log')\n",
    "# ax.set_yscale('log')\n",
    "plt.show()"
   ]
  },
  {
   "cell_type": "code",
   "execution_count": 20,
   "metadata": {
    "collapsed": false
   },
   "outputs": [
    {
     "name": "stdout",
     "output_type": "stream",
     "text": [
      "['revolving_door', 'carousel', 'laundromat', 'raft', 'confessional', 'bullring', 'rope_bridge', 'martial_art', 'fire_escape', 'tree_farm']\n",
      "['friend', 'place', 'lighting', 'couple', 'night', 'pot', 'room', 'iron', 'tourist', 'top']\n"
     ]
    }
   ],
   "source": [
    "print sorted(descList, key=lambda w: s1_1[descId[w]], reverse=False)[:10]\n",
    "print sorted(descList, key=lambda w: s1_1[descId[w]], reverse=True)[:10]"
   ]
  },
  {
   "cell_type": "code",
   "execution_count": 21,
   "metadata": {
    "collapsed": false
   },
   "outputs": [
    {
     "name": "stdout",
     "output_type": "stream",
     "text": [
      "['sandbox', 'revolving_door', 'nursing_home', 'limousine', 'beehive', 'confessional', 'laundromat', 'bowling_alley', 'raft', 'carousel']\n",
      "['place', 'building', 'house', 'room', 'nature', 'street', 'park', 'palace', 'resort', 'plant']\n"
     ]
    }
   ],
   "source": [
    "print sorted(descList, key=lambda w: s1_2[descId[w]], reverse=False)[:10]\n",
    "print sorted(descList, key=lambda w: s1_2[descId[w]], reverse=True)[:10]"
   ]
  },
  {
   "cell_type": "code",
   "execution_count": 22,
   "metadata": {
    "collapsed": false
   },
   "outputs": [
    {
     "name": "stdout",
     "output_type": "stream",
     "text": [
      "['place', 'university', 'god', 'old', 'left', 'school', 'house', 'study', 'business', 'child']\n",
      "['car_port', 'aerogram', 'home_theatre', 'wrestling_ring', 'handwash', 'toll_plaza', 'woodlouse', 'cattle_farm', 'jobcentre', 'rope_bridge']\n"
     ]
    }
   ],
   "source": [
    "print sorted(descList, key=lambda w: s2_3[descId[w]], reverse=False)[:10]\n",
    "print sorted(descList, key=lambda w: s2_3[descId[w]], reverse=True)[:10]"
   ]
  },
  {
   "cell_type": "code",
   "execution_count": 41,
   "metadata": {
    "collapsed": false
   },
   "outputs": [
    {
     "name": "stdout",
     "output_type": "stream",
     "text": [
      "-0.177032983058 0.0313406770902 0.0356774004468\n",
      "['waterfall', 'sea', 'bedroom', 'church', 'falls', 'stadium', 'escalator', 'carousel', 'building', 'swimming_pool', 'windmill', 'aquarium', 'restaurant', 'lake', 'gym', 'hill', 'circus', 'shop', 'bathroom', 'ocean', 'playground', 'hospital', 'bridge', 'massage', 'beach', 'highway', 'bowling_alley', 'palace', 'car_port', 'ball']\n",
      "['pot', 'group', 'night', 'top', 'friend', 'iron', 'avenue', 'exit', 'reading', 'watching', 'lighting', 'couple', 'wooden', 'tourist', 'palm_tree', 'container', 'seminar', 'rest_house', 'curtain', 'speaker', 'wire', 'archeology', 'design', 'rooftop', 'campus', 'entryway', 'landmark', 'festival', 'tractor', 'reception_room']\n"
     ]
    }
   ],
   "source": [
    "slope, intercept, r_value, p_value, std_err = linregress(s1_1, s2_4)\n",
    "print slope, r_value**2, std_err\n",
    "evalScore = [a + b for a, b in zip(s1_1, s2_4)]\n",
    "print sorted(descList, key=lambda w: evalScore[descId[w]], reverse=False)[:30]\n",
    "print sorted(descList, key=lambda w: evalScore[descId[w]], reverse=True)[:30]"
   ]
  },
  {
   "cell_type": "code",
   "execution_count": 39,
   "metadata": {
    "collapsed": false
   },
   "outputs": [
    {
     "name": "stdout",
     "output_type": "stream",
     "text": [
      "-0.528104880473 0.278894764779 0.0307827202757\n",
      "['ball', 'telephone', 'stop', 'transform', 'wave', 'press', 'hat', 'trunk', 'fish', 'optical', 'automobile', 'running', 'university', 'piano', 'island', 'shower', 'crack', 'patient', 'nursing_home', 'raft', 'barber', 'bamboo', 'vet', 'hedge', 'dentist', 'organ', 'funny', 'falls', 'operation', 'massage', 'safe', 'reef', 'dog', 'confessional', 'god', 'preschool', 'athletics', 'guitar', 'labyrinth', 'canyon', 'left', 'lack', 'salt', 'coast', 'cockpit', 'market', 'archaeology', 'food', 'exercise', 'ferry']\n",
      "['rest_house', 'water_plant', 'teashop', 'palas', 'waiting_area', 'assembly_hall', 'workroom', 'reception_room', 'water_fountain', 'handwash', 'military_man', 'entryway', 'study_hall', 'wine_bar', 'verandah', 'storeroom', 'palm_tree', 'beauty_parlor', 'tv_room', 'cattle_farm', 'rooftop', 'flyover', 'watchtower', 'stone_wall', 'archeology', 'oil_well', 'darkroom', 'oast', 'science_lab', 'hanger', 'showcase', 'storefront', 'lighting', 'barrack', 'pot', 'water_tap', 'slum_area', 'tractor', 'boatyard', 'music_hall', 'dining_table', 'ticket_booth', 'dry_land', 'sit_out', 'toyshop', 'collage', 'tourist', 'holy_place', 'dress_shop', 'skating_rink']\n"
     ]
    }
   ],
   "source": [
    "slope, intercept, r_value, p_value, std_err = linregress(s1_1, s2_3)\n",
    "print slope, r_value**2, std_err\n",
    "evalScore = [a + b for a, b in zip(s1_1, s2_3)]\n",
    "print sorted(descList, key=lambda w: evalScore[descId[w]], reverse=False)[:50]\n",
    "print sorted(descList, key=lambda w: evalScore[descId[w]], reverse=True)[:50]"
   ]
  },
  {
   "cell_type": "code",
   "execution_count": 29,
   "metadata": {
    "collapsed": false
   },
   "outputs": [
    {
     "name": "stdout",
     "output_type": "stream",
     "text": [
      "-0.418737891116 0.175341421456 0.0164270816429\n"
     ]
    }
   ],
   "source": [
    "slope, intercept, r_value, p_value, std_err = linregress(s1_2, s2_3)\n",
    "print slope, r_value**2, std_err"
   ]
  },
  {
   "cell_type": "code",
   "execution_count": 15,
   "metadata": {
    "collapsed": false
   },
   "outputs": [
    {
     "name": "stdout",
     "output_type": "stream",
     "text": [
      "-0.441600895183 0.195011350626 0.0258787112312\n"
     ]
    }
   ],
   "source": [
    "slope, intercept, r_value, p_value, std_err = linregress(filterWordNum(s1_2, 1), filterWordNum(s2_3, 1))\n",
    "print slope, r_value**2, std_err"
   ]
  },
  {
   "cell_type": "code",
   "execution_count": 16,
   "metadata": {
    "collapsed": false
   },
   "outputs": [
    {
     "name": "stdout",
     "output_type": "stream",
     "text": [
      "0.869364217099 0.755794141972 0.014253640631\n"
     ]
    }
   ],
   "source": [
    "slope, intercept, r_value, p_value, std_err = linregress(s1_1, s1_2)\n",
    "print slope, r_value**2, std_err"
   ]
  },
  {
   "cell_type": "code",
   "execution_count": null,
   "metadata": {
    "collapsed": true
   },
   "outputs": [],
   "source": []
  }
 ],
 "metadata": {
  "kernelspec": {
   "display_name": "Python 2",
   "language": "python",
   "name": "python2"
  },
  "language_info": {
   "codemirror_mode": {
    "name": "ipython",
    "version": 2
   },
   "file_extension": ".py",
   "mimetype": "text/x-python",
   "name": "python",
   "nbconvert_exporter": "python",
   "pygments_lexer": "ipython2",
   "version": "2.7.6"
  }
 },
 "nbformat": 4,
 "nbformat_minor": 0
}
