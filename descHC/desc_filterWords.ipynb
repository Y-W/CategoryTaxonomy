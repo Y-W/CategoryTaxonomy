{
 "cells": [
  {
   "cell_type": "markdown",
   "metadata": {},
   "source": [
    "Filtering words\n",
    "========"
   ]
  },
  {
   "cell_type": "code",
   "execution_count": 8,
   "metadata": {
    "collapsed": true
   },
   "outputs": [],
   "source": [
    "import csv\n",
    "from collections import Counter, defaultdict\n",
    "from scipy.stats import entropy\n",
    "import numpy as np"
   ]
  },
  {
   "cell_type": "code",
   "execution_count": 9,
   "metadata": {
    "collapsed": false
   },
   "outputs": [
    {
     "name": "stdout",
     "output_type": "stream",
     "text": [
      "['category_id', 'description', 'count']\n"
     ]
    }
   ],
   "source": [
    "# Load files\n",
    "catDescFile = 'data/cat_desc_wn.csv'\n",
    "catDescHeaders = None\n",
    "descCatCnt = defaultdict(Counter)\n",
    "descCnt = Counter()\n",
    "with open(catDescFile) as fin:\n",
    "    r = csv.reader(fin)\n",
    "    for row in r:\n",
    "        if catDescHeaders is None:\n",
    "            catDescHeaders = row\n",
    "            print catDescHeaders\n",
    "        else:\n",
    "            descCatCnt[row[1]][int(row[0]) - 1] += int(row[-1])\n",
    "            descCnt[row[1]] += int(row[-1])\n",
    "\n",
    "descDist = {desc: sorted(cnt.values(), reverse=True) for desc, cnt in descCatCnt.iteritems()}"
   ]
  },
  {
   "cell_type": "code",
   "execution_count": 16,
   "metadata": {
    "collapsed": false
   },
   "outputs": [
    {
     "name": "stdout",
     "output_type": "stream",
     "text": [
      "Finished 100\n",
      "Finished 200\n",
      "Finished 300\n",
      "Finished 500\n",
      "Finished 700\n",
      "Finished 1300\n",
      "Finished 1500\n",
      "Finished 1800\n",
      "Finished 2000\n",
      "Finished 2300\n",
      "Finished 2500\n",
      "Finished 2700\n",
      "Finished 2900\n"
     ]
    }
   ],
   "source": [
    "def dE(arr, k):\n",
    "    tmp = np.concatenate((np.ones(k), np.zeros(len(arr) - k)), axis=0)\n",
    "    return entropy(tmp, arr) / float(k)\n",
    "descEval = {}\n",
    "for x, (desc, dist) in enumerate(descDist.iteritems()):\n",
    "    if descCnt[desc] < 100: continue\n",
    "    descEval[desc] = min((dE(dist, i+1), i+1) for i in xrange(len(dist)))\n",
    "    if x % 100 == 0:\n",
    "        print 'Finished', x"
   ]
  },
  {
   "cell_type": "code",
   "execution_count": 17,
   "metadata": {
    "collapsed": false
   },
   "outputs": [
    {
     "name": "stdout",
     "output_type": "stream",
     "text": [
      "('none', (0.00016745771479564339, 290))\n",
      "('organisation', (0.00016905588865930826, 356))\n",
      "('mechanist', (0.0001737092168822135, 160))\n",
      "('outdoor', (0.0002858850273437573, 351))\n",
      "('image', (0.00039051238667065803, 281))\n",
      "('swimmer', (0.00040331508976681237, 364))\n",
      "('outside', (0.00041017676174739552, 531))\n",
      "('place', (0.00041820370113653638, 624))\n",
      "('scenic', (0.00046747399619962858, 208))\n",
      "('h', (0.00048490690767320109, 90))\n",
      "('hose', (0.00049269334321003862, 180))\n",
      "('viewpoint', (0.00049273803571032299, 242))\n",
      "('architect', (0.00049926548356852727, 192))\n",
      "('person', (0.00054284670275383325, 636))\n",
      "('unknown', (0.0005858303797655844, 527))\n",
      "('indoor', (0.00060731392499515735, 171))\n",
      "('men', (0.00060995055936226045, 839))\n",
      "('picture', (0.00064399563695125884, 526))\n",
      "('build', (0.00064937040999086106, 328))\n",
      "('peoples', (0.00067614880550962277, 697))\n",
      "('manufacturing', (0.00071803963091062785, 109))\n",
      "('station', (0.00072077677361445734, 799))\n",
      "('house', (0.00074793115497407802, 1039))\n",
      "('grassland', (0.00077001992693220291, 858))\n",
      "('building', (0.00077038239854786974, 1028))\n",
      "('green', (0.00078693188720649614, 363))\n",
      "('hall', (0.00078968276125185896, 999))\n",
      "('natural', (0.00079055730427278069, 330))\n",
      "('company', (0.00080028408379791171, 749))\n",
      "('avenue', (0.00081147854810120833, 89))\n",
      "('wall', (0.00081702186285621868, 783))\n",
      "('tree', (0.00081762686831833608, 1002))\n",
      "('human', (0.00081992395717542287, 370))\n",
      "('waiting_room', (0.00082605639473028365, 877))\n",
      "('structure', (0.00082941160643016396, 222))\n",
      "('ground', (0.00083330029430340351, 1034))\n",
      "('interior', (0.00085415801029451073, 202))\n",
      "('man', (0.00085616119172812299, 677))\n",
      "('sky', (0.00086751369509778867, 983))\n",
      "('flats', (0.00087543245433767132, 214))\n",
      "('light', (0.00088043029910383596, 572))\n",
      "('showroom', (0.00089888469829975805, 735))\n",
      "('roadside', (0.00091508772239904713, 539))\n",
      "('room', (0.00092707747752745237, 984))\n",
      "('home', (0.00093417549167023857, 920))\n",
      "('hotel', (0.00095177919988282181, 940))\n",
      "('people', (0.00095735369003661344, 771))\n",
      "('resort', (0.00096241571234225711, 488))\n",
      "('way', (0.00096659053350585421, 707))\n",
      "('drawing_room', (0.00098405590471562702, 664))\n",
      "========================================\n",
      "('cleaners', (0.10309550902697402, 1))\n",
      "('solar_panel', (0.10486934486305345, 14))\n",
      "('barber', (0.10536051565782635, 1))\n",
      "('water_tap', (0.10684651442597089, 12))\n",
      "('bump', (0.1073085701915821, 20))\n",
      "('ski_resort', (0.10984300693976974, 3))\n",
      "('badminton', (0.11002676811405518, 16))\n",
      "('tiger', (0.11023797387136186, 13))\n",
      "('shooting_range', (0.11296011439339759, 29))\n",
      "('archaeology', (0.11332868530700307, 1))\n",
      "('ropeway', (0.11444003439001151, 12))\n",
      "('banana', (0.11454321123960619, 11))\n",
      "('cockpit', (0.11480366222737526, 23))\n",
      "('petrol_pump', (0.11482464754461198, 15))\n",
      "('bullfight', (0.11928156728887235, 25))\n",
      "('catwalk', (0.12043438602209676, 15))\n",
      "('athletics', (0.12223493996106714, 17))\n",
      "('manhole', (0.12296329120051325, 13))\n",
      "('bus_depot', (0.12300386561091797, 16))\n",
      "('trunk', (0.12568821516349671, 1))\n",
      "('motorboat', (0.12809048595253739, 14))\n",
      "('dorm_room', (0.12814300279277699, 16))\n",
      "('cable_car', (0.13133490273686205, 14))\n",
      "('boxing_ring', (0.131821799953177, 2))\n",
      "('corn_field', (0.13353139262452257, 1))\n",
      "('florist', (0.1335447593149669, 13))\n",
      "('hat_shop', (0.13453089295760606, 1))\n",
      "('solar', (0.13489477956912682, 2))\n",
      "('water_tower', (0.13537264003019334, 12))\n",
      "('roller_coaster', (0.13577130095266876, 16))\n",
      "('maze', (0.13741841646622777, 3))\n",
      "('dairy', (0.13846967426510512, 1))\n",
      "('badminton_court', (0.13848236634569011, 17))\n",
      "('vending_machine', (0.13881068266437077, 13))\n",
      "('miniature_golf', (0.1388364448542159, 1))\n",
      "('crosswalk', (0.14541699985850368, 1))\n",
      "('army_tank', (0.14594462016845017, 13))\n",
      "('jewelry', (0.14608245945903175, 8))\n",
      "('fish_farm', (0.15128278501524067, 10))\n",
      "('butcher', (0.15588865968257201, 3))\n",
      "('backseat', (0.16193437055704324, 4))\n",
      "('chicken_farm', (0.16555183425392042, 2))\n",
      "('geyser', (0.17078003042404433, 11))\n",
      "('pool_table', (0.17086832943094607, 3))\n",
      "('hedge', (0.17892101617794276, 11))\n",
      "('putting_green', (0.18632957819149354, 1))\n",
      "('topiary', (0.18748058982559548, 3))\n",
      "('wheat_field', (0.19221240617672836, 7))\n",
      "('poolroom', (0.19549201998369964, 1))\n",
      "('pigpen', (0.22176127543573795, 2))\n"
     ]
    }
   ],
   "source": [
    "orderedResult = sorted(descEval.items(), key=lambda x: x[1][0])\n",
    "for x in orderedResult[:50]:\n",
    "    print x\n",
    "print '========================================'\n",
    "for x in orderedResult[-50:]:\n",
    "    print x"
   ]
  },
  {
   "cell_type": "code",
   "execution_count": null,
   "metadata": {
    "collapsed": true
   },
   "outputs": [],
   "source": []
  }
 ],
 "metadata": {
  "kernelspec": {
   "display_name": "Python 2",
   "language": "python",
   "name": "python2"
  },
  "language_info": {
   "codemirror_mode": {
    "name": "ipython",
    "version": 2
   },
   "file_extension": ".py",
   "mimetype": "text/x-python",
   "name": "python",
   "nbconvert_exporter": "python",
   "pygments_lexer": "ipython2",
   "version": "2.7.6"
  }
 },
 "nbformat": 4,
 "nbformat_minor": 0
}
