{
 "cells": [
  {
   "cell_type": "markdown",
   "metadata": {},
   "source": [
    "Flattening the Taxonomy Tree\n",
    "================"
   ]
  },
  {
   "cell_type": "code",
   "execution_count": 1,
   "metadata": {
    "collapsed": true
   },
   "outputs": [],
   "source": [
    "from collections import Counter, defaultdict\n",
    "import pickle\n",
    "import gzip\n",
    "import csv"
   ]
  },
  {
   "cell_type": "code",
   "execution_count": 2,
   "metadata": {
    "collapsed": false
   },
   "outputs": [],
   "source": [
    "# Load files\n",
    "catNameFile = 'data/categoryKey.csv'\n",
    "catName = {}\n",
    "with open(catNameFile) as fin:\n",
    "    r = csv.reader(fin)\n",
    "    for row in r:\n",
    "        catName[int(row[0]) - 1] = row[1]\n",
    "\n",
    "# Load taxonomy tree\n",
    "taxonomyFile = 'model/hcTree1_2.pickle.gz'\n",
    "with gzip.open(taxonomyFile) as fin:\n",
    "    taxoTreeNodes = pickle.load(fin)\n",
    "\n",
    "# Load label info\n",
    "treeLabelFile = 'model/hcTree1_matching_2.pickle.gz'\n",
    "with gzip.open(treeLabelFile) as fin:\n",
    "    matchingMtx, descList = pickle.load(fin)"
   ]
  },
  {
   "cell_type": "code",
   "execution_count": 3,
   "metadata": {
    "collapsed": false
   },
   "outputs": [],
   "source": [
    "# Find best matching for each description\n",
    "descBest = [0] * len(descList)\n",
    "for i, val in enumerate(matchingMtx):\n",
    "    for j, v in enumerate(val):\n",
    "        if v < matchingMtx[descBest[j]][j]:\n",
    "            descBest[j] = i"
   ]
  },
  {
   "cell_type": "code",
   "execution_count": 4,
   "metadata": {
    "collapsed": true
   },
   "outputs": [],
   "source": [
    "# Find best matching for each node\n",
    "nodeBest = [val.index(min(val)) for val in matchingMtx]"
   ]
  },
  {
   "cell_type": "code",
   "execution_count": 5,
   "metadata": {
    "collapsed": true
   },
   "outputs": [],
   "source": [
    "# Designate node description\n",
    "nodeDesc = [d if descBest[d] == i else None for i, d in enumerate(nodeBest)]"
   ]
  },
  {
   "cell_type": "code",
   "execution_count": 8,
   "metadata": {
    "collapsed": false
   },
   "outputs": [],
   "source": [
    "def buildFlattenedTree_recur(taxoTreeNodes, nodeDesc, topNode):\n",
    "    nodeRec = taxoTreeNodes[topNode]\n",
    "    s1, s2 = nodeRec[-3], nodeRec[-2]\n",
    "    if s1 is None and s2 is None:\n",
    "        return ({'name':catName[topNode], 'children':[]},)\n",
    "    else:\n",
    "        if nodeDesc[topNode - len(catName)] is not None:\n",
    "            st1 = buildFlattenedTree_recur(taxoTreeNodes, nodeDesc, s1)\n",
    "            st2 = buildFlattenedTree_recur(taxoTreeNodes, nodeDesc, s2)\n",
    "            return ({'name':descList[nodeDesc[topNode - len(catName)]], 'children':st1+st2},)\n",
    "        else:\n",
    "            st1 = buildFlattenedTree_recur(taxoTreeNodes, nodeDesc, s1)\n",
    "            st2 = buildFlattenedTree_recur(taxoTreeNodes, nodeDesc, s2)\n",
    "            return st1+st2\n",
    "    \n",
    "def buildFlattenedTree(taxoTreeNodes, nodeDesc):\n",
    "    topNode = len(taxoTreeNodes) - 1\n",
    "    rootForest = buildFlattenedTree_recur(taxoTreeNodes, nodeDesc, topNode)\n",
    "    if len(rootForest) == 1:\n",
    "        return rootForest[0]\n",
    "    else:\n",
    "        return {'name':'ROOT', 'children':rootForest}"
   ]
  },
  {
   "cell_type": "code",
   "execution_count": 9,
   "metadata": {
    "collapsed": false
   },
   "outputs": [],
   "source": [
    "flattenedTree = buildFlattenedTree(taxoTreeNodes, nodeDesc)"
   ]
  },
  {
   "cell_type": "code",
   "execution_count": 10,
   "metadata": {
    "collapsed": false
   },
   "outputs": [],
   "source": [
    "import json\n",
    "with open('vis/hcTree1_label_flat_2.json', 'w') as fout:\n",
    "    json.dump(flattenedTree, fout)"
   ]
  },
  {
   "cell_type": "code",
   "execution_count": null,
   "metadata": {
    "collapsed": true
   },
   "outputs": [],
   "source": []
  }
 ],
 "metadata": {
  "kernelspec": {
   "display_name": "Python 2",
   "language": "python",
   "name": "python2"
  },
  "language_info": {
   "codemirror_mode": {
    "name": "ipython",
    "version": 2
   },
   "file_extension": ".py",
   "mimetype": "text/x-python",
   "name": "python",
   "nbconvert_exporter": "python",
   "pygments_lexer": "ipython2",
   "version": "2.7.6"
  }
 },
 "nbformat": 4,
 "nbformat_minor": 0
}
