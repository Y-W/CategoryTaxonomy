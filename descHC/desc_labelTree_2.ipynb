{
 "cells": [
  {
   "cell_type": "markdown",
   "metadata": {},
   "source": [
    "Labeling Taxonomy Tree of Categories\n",
    "===================="
   ]
  },
  {
   "cell_type": "code",
   "execution_count": 4,
   "metadata": {
    "collapsed": true
   },
   "outputs": [],
   "source": [
    "from collections import Counter, defaultdict\n",
    "import multiprocessing as mp\n",
    "from math import log\n",
    "from functools import partial\n",
    "import pickle\n",
    "import gzip\n",
    "import csv"
   ]
  },
  {
   "cell_type": "code",
   "execution_count": 5,
   "metadata": {
    "collapsed": false
   },
   "outputs": [
    {
     "name": "stdout",
     "output_type": "stream",
     "text": [
      "['category_id', 'description', 'count']\n"
     ]
    }
   ],
   "source": [
    "# Load files\n",
    "catDescFile = 'data/cat_desc_2.csv'\n",
    "catDescHeaders = None\n",
    "descCatCnt = defaultdict(Counter)\n",
    "descCnt = Counter()\n",
    "with open(catDescFile) as fin:\n",
    "    r = csv.reader(fin)\n",
    "    for row in r:\n",
    "        if catDescHeaders is None:\n",
    "            catDescHeaders = row\n",
    "            print catDescHeaders\n",
    "        else:\n",
    "            descCatCnt[row[1]][int(row[0]) - 1] += int(row[-1])\n",
    "            descCnt[row[1]] += int(row[-1])\n",
    "\n",
    "catNameFile = 'data/categoryKey.csv'\n",
    "catName = {}\n",
    "with open(catNameFile) as fin:\n",
    "    r = csv.reader(fin)\n",
    "    for row in r:\n",
    "        catName[int(row[0]) - 1] = row[1]"
   ]
  },
  {
   "cell_type": "code",
   "execution_count": 6,
   "metadata": {
    "collapsed": true
   },
   "outputs": [],
   "source": [
    "# Load taxonomy tree\n",
    "taxonomyFile = 'model/hcTree1_2.pickle.gz'\n",
    "with gzip.open(taxonomyFile) as fin:\n",
    "    taxoTreeNodes = pickle.load(fin)"
   ]
  },
  {
   "cell_type": "code",
   "execution_count": 7,
   "metadata": {
    "collapsed": false
   },
   "outputs": [
    {
     "name": "stdout",
     "output_type": "stream",
     "text": [
      "2467 95369\n",
      "6826367 7195840\n"
     ]
    }
   ],
   "source": [
    "# Take descriptions of occurance >= $threshold$ and normalize distribution\n",
    "threshold = 100\n",
    "descList = [d for d, c in descCnt.most_common() if c >= threshold]\n",
    "print len(descList), len(descCnt)\n",
    "print sum(descCnt[d] for d in descList), sum(descCnt.itervalues())\n",
    "\n",
    "descSet = set(descList)\n",
    "descDist = defaultdict(Counter)\n",
    "for desc, dist in descCatCnt.iteritems():\n",
    "    if desc not in descSet: continue\n",
    "    s = float(sum(dist.itervalues()))\n",
    "    for c, v in dist.iteritems():\n",
    "        descDist[desc][c] += v / s"
   ]
  },
  {
   "cell_type": "code",
   "execution_count": 8,
   "metadata": {
    "collapsed": true
   },
   "outputs": [],
   "source": [
    "def JensenShannonDiv(dist1, dist2):\n",
    "    ans = 0.0\n",
    "    for k in set(dist1.keys()) | set(dist2.keys()):\n",
    "        x = dist1[k] if k in dist1 else 0\n",
    "        y = dist2[k] if k in dist2 else 0\n",
    "        m = (x + y) * 0.5\n",
    "        if x > 0:\n",
    "            ans += x * log(x / m)\n",
    "        if y > 0:\n",
    "            ans += y * log(y / m)\n",
    "    return ans * 0.5\n",
    "\n",
    "def evalMatch(catDist, descDist, desc):\n",
    "    return JensenShannonDiv(catDist, descDist[desc])\n",
    "\n",
    "def matchingResult(catSet, mpPool, topNums=5):\n",
    "    catDist = {c:1.0 / len(catSet) for c in catSet}\n",
    "    mpKernel = partial(evalMatch, catDist, descDist)\n",
    "    vals = mpPool.map(mpKernel, descList)\n",
    "    return vals"
   ]
  },
  {
   "cell_type": "code",
   "execution_count": 9,
   "metadata": {
    "collapsed": false
   },
   "outputs": [],
   "source": [
    "# Build category sets for each node in the taxonomy tree\n",
    "nodeCatSet = []\n",
    "for i, node in enumerate(taxoTreeNodes):\n",
    "    if node[0] == 1:\n",
    "        nodeCatSet.append(set([i]))\n",
    "    else:\n",
    "        nodeCatSet.append(nodeCatSet[node[-3]] | nodeCatSet[node[-2]])"
   ]
  },
  {
   "cell_type": "code",
   "execution_count": 10,
   "metadata": {
    "collapsed": false
   },
   "outputs": [
    {
     "name": "stdout",
     "output_type": "stream",
     "text": [
      "Processing node # 1060\n",
      "Processing node # 1070\n",
      "Processing node # 1080\n",
      "Processing node # 1090\n",
      "Processing node # 1100\n",
      "Processing node # 1110\n",
      "Processing node # 1120\n",
      "Processing node # 1130\n",
      "Processing node # 1140\n",
      "Processing node # 1150\n",
      "Processing node # 1160\n",
      "Processing node # 1170\n",
      "Processing node # 1180\n",
      "Processing node # 1190\n",
      "Processing node # 1200\n",
      "Processing node # 1210\n",
      "Processing node # 1220\n",
      "Processing node # 1230\n",
      "Processing node # 1240\n",
      "Processing node # 1250\n",
      "Processing node # 1260\n",
      "Processing node # 1270\n",
      "Processing node # 1280\n",
      "Processing node # 1290\n",
      "Processing node # 1300\n",
      "Processing node # 1310\n",
      "Processing node # 1320\n",
      "Processing node # 1330\n",
      "Processing node # 1340\n",
      "Processing node # 1350\n",
      "Processing node # 1360\n",
      "Processing node # 1370\n",
      "Processing node # 1380\n",
      "Processing node # 1390\n",
      "Processing node # 1400\n",
      "Processing node # 1410\n",
      "Processing node # 1420\n",
      "Processing node # 1430\n",
      "Processing node # 1440\n",
      "Processing node # 1450\n",
      "Processing node # 1460\n",
      "Processing node # 1470\n",
      "Processing node # 1480\n",
      "Processing node # 1490\n",
      "Processing node # 1500\n",
      "Processing node # 1510\n",
      "Processing node # 1520\n",
      "Processing node # 1530\n",
      "Processing node # 1540\n",
      "Processing node # 1550\n",
      "Processing node # 1560\n",
      "Processing node # 1570\n",
      "Processing node # 1580\n",
      "Processing node # 1590\n",
      "Processing node # 1600\n",
      "Processing node # 1610\n",
      "Processing node # 1620\n",
      "Processing node # 1630\n",
      "Processing node # 1640\n",
      "Processing node # 1650\n",
      "Processing node # 1660\n",
      "Processing node # 1670\n",
      "Processing node # 1680\n",
      "Processing node # 1690\n",
      "Processing node # 1700\n",
      "Processing node # 1710\n",
      "Processing node # 1720\n",
      "Processing node # 1730\n",
      "Processing node # 1740\n",
      "Processing node # 1750\n",
      "Processing node # 1760\n",
      "Processing node # 1770\n",
      "Processing node # 1780\n",
      "Processing node # 1790\n",
      "Processing node # 1800\n",
      "Processing node # 1810\n",
      "Processing node # 1820\n",
      "Processing node # 1830\n",
      "Processing node # 1840\n",
      "Processing node # 1850\n",
      "Processing node # 1860\n",
      "Processing node # 1870\n",
      "Processing node # 1880\n",
      "Processing node # 1890\n",
      "Processing node # 1900\n",
      "Processing node # 1910\n",
      "Processing node # 1920\n",
      "Processing node # 1930\n",
      "Processing node # 1940\n",
      "Processing node # 1950\n",
      "Processing node # 1960\n",
      "Processing node # 1970\n",
      "Processing node # 1980\n",
      "Processing node # 1990\n",
      "Processing node # 2000\n",
      "Processing node # 2010\n",
      "Processing node # 2020\n",
      "Processing node # 2030\n",
      "Processing node # 2040\n",
      "Processing node # 2050\n",
      "Processing node # 2060\n",
      "Processing node # 2070\n",
      "Processing node # 2080\n",
      "Processing node # 2090\n",
      "Processing node # 2100\n"
     ]
    }
   ],
   "source": [
    "matchingMtx = []\n",
    "mpPool = mp.Pool()\n",
    "for i, s in enumerate(nodeCatSet):\n",
    "    if i < len(catName): continue\n",
    "    matchingMtx.append(matchingResult(s, mpPool))\n",
    "    if i % 10 == 0:\n",
    "        print 'Processing node #',i\n",
    "mpPool.close()"
   ]
  },
  {
   "cell_type": "code",
   "execution_count": 11,
   "metadata": {
    "collapsed": false
   },
   "outputs": [],
   "source": [
    "outputFileName = 'model/hcTree1_matching_2.pickle.gz'\n",
    "with gzip.open(outputFileName, 'wb') as fout:\n",
    "    pickle.dump((matchingMtx, descList), fout)"
   ]
  },
  {
   "cell_type": "code",
   "execution_count": 12,
   "metadata": {
    "collapsed": false
   },
   "outputs": [
    {
     "name": "stdout",
     "output_type": "stream",
     "text": [
      "1044 [(36, 0.21092763776631712), (5, 0.24845651094555796), (32, 0.2598474946069811)] (146, 490.3942341824215, 2093, 2082, 1.4091328311912004)\n",
      "1045 [(113, 0.2687346359153511), (663, 0.2687987387364557), (3, 0.27367946786346814)] (153, 579.3230369955083, 2091, 2084, 1.4137517336856464)\n",
      "1046 [(242, 0.31379005737822885), (1211, 0.32613460227887836), (924, 0.3333149510470036)] (193, 714.9127632251251, 2092, 2087, 1.433201053068268)\n",
      "1047 [(1, 0.2233342186382508), (25, 0.24177475390999076), (52, 0.25781710888014536)] (299, 1147.5219788328343, 2098, 2090, 1.5685058835640402)\n",
      "1048 [(6, 0.2934790771991496), (2, 0.3074549618783569), (15, 0.3164779961744379)] (182, 649.6046455931771, 2097, 2095, 1.5777812695297295)\n",
      "1049 [(29, 0.2885663219793484), (11, 0.3019995033967244), (28, 0.3091142640140115)] (275, 1018.0086530626759, 2101, 2096, 1.6356117380077726)\n",
      "1050 [(2, 0.20801532485730864), (4, 0.22050368367692116), (6, 0.27532229758736826)] (335, 1228.9276825886855, 2103, 2100, 1.7357812048139905)\n",
      "1051 [(1, 0.19142416396943585), (16, 0.19284945833902936), (33, 0.22272742283112557)] (574, 2165.53063189551, 2104, 2102, 1.8082020374698606)\n",
      "1052 [(16, 0.13574375466317118), (178, 0.1677616291998026), (223, 0.17596521583313657)] (720, 2655.9248660779313, 2106, 2099, 1.9351269747220705)\n",
      "1053 [(16, 0.09304768653577027), (74, 0.10799459461324781), (178, 0.14870137116641352)] (1055, 3884.8525486666167, 2107, 2105, 2.141425771246715)\n"
     ]
    }
   ],
   "source": [
    "for i, matches in enumerate(matchingMtx):\n",
    "    if len(matchingMtx) - i <= 10:\n",
    "        print i, sorted(enumerate(matches), key=lambda x:x[1])[:3], taxoTreeNodes[i + len(catName)]"
   ]
  },
  {
   "cell_type": "code",
   "execution_count": null,
   "metadata": {
    "collapsed": true
   },
   "outputs": [],
   "source": []
  }
 ],
 "metadata": {
  "kernelspec": {
   "display_name": "Python 2",
   "language": "python",
   "name": "python2"
  },
  "language_info": {
   "codemirror_mode": {
    "name": "ipython",
    "version": 2
   },
   "file_extension": ".py",
   "mimetype": "text/x-python",
   "name": "python",
   "nbconvert_exporter": "python",
   "pygments_lexer": "ipython2",
   "version": "2.7.6"
  }
 },
 "nbformat": 4,
 "nbformat_minor": 0
}
