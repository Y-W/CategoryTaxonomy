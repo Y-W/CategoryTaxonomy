{
 "cells": [
  {
   "cell_type": "markdown",
   "metadata": {},
   "source": [
    "Finding basic level categoies\n",
    "================"
   ]
  },
  {
   "cell_type": "code",
   "execution_count": 2,
   "metadata": {
    "collapsed": false
   },
   "outputs": [],
   "source": [
    "%matplotlib inline\n",
    "\n",
    "import matplotlib.pyplot as plt\n",
    "import matplotlib.colors as pltColors\n",
    "import numpy as np\n",
    "from scipy.sparse import csr_matrix\n",
    "from scipy.sparse.linalg import svds\n",
    "from scipy.spatial.distance import cosine\n",
    "import csv\n",
    "from collections import Counter, defaultdict\n",
    "from sklearn.preprocessing import normalize\n",
    "from numpy.linalg import norm\n",
    "from numpy.linalg import pinv\n",
    "from scipy.stats import linregress\n",
    "import scipy.io as sio\n",
    "from math import log\n",
    "from scipy.stats import entropy\n",
    "from sklearn.preprocessing import scale\n",
    "from scipy.stats import linregress\n",
    "from math import log10\n",
    "log2 = lambda x: log(x, 2)\n",
    "lstDiv = lambda x, y: [a / b for a, b in zip(x, y)]"
   ]
  },
  {
   "cell_type": "code",
   "execution_count": 3,
   "metadata": {
    "collapsed": false
   },
   "outputs": [
    {
     "name": "stdout",
     "output_type": "stream",
     "text": [
      "['category_id', 'description', 'count']\n",
      "True\n",
      "(1055, 1055)\n",
      "['description', 'JointProb']\n"
     ]
    }
   ],
   "source": [
    "# Load files\n",
    "inputFile = 'data/cat_desc_wn.csv'\n",
    "headers = None\n",
    "descCnt = Counter()\n",
    "catCnt = Counter()\n",
    "descCatCnt = defaultdict(Counter)\n",
    "with open(inputFile) as fin:\n",
    "    r = csv.reader(fin)\n",
    "    for row in r:\n",
    "        if headers is None:\n",
    "            headers = row\n",
    "            print headers\n",
    "        else:\n",
    "            cat, desc, cnt = row\n",
    "            cat = int(cat) - 1\n",
    "            cnt = int(cnt)\n",
    "            descCnt[desc] += cnt\n",
    "            catCnt[cat] += cnt\n",
    "            descCatCnt[desc][cat] += cnt\n",
    "\n",
    "catNameFile = 'data/categoryKey.csv'\n",
    "catName = {}\n",
    "with open(catNameFile) as fin:\n",
    "    r = csv.reader(fin)\n",
    "    for row in r:\n",
    "        catName[int(row[0]) - 1] = row[1]\n",
    "\n",
    "print range(len(catName)) == catName.keys() and range(len(catName)) == catCnt.keys()\n",
    "\n",
    "simMtxGTFile = 'data/largeSimMatrix.mat'\n",
    "simMtxGT = sio.loadmat(simMtxGTFile)['largeSimMatrix']\n",
    "print simMtxGT.shape\n",
    "\n",
    "wordFreqFile = 'data/GNGramFreq.csv'\n",
    "wordFreqHeader = None\n",
    "wordFreq = {}\n",
    "with open(wordFreqFile) as fin:\n",
    "    r = csv.reader(fin)\n",
    "    for row in r:\n",
    "        if wordFreqHeader is None:\n",
    "            wordFreqHeader = row\n",
    "            print wordFreqHeader\n",
    "        else:\n",
    "            desc, freq = row\n",
    "            freq = float(freq)\n",
    "            if freq == 0.0:\n",
    "                continue\n",
    "            logFreq = log10(float(freq))\n",
    "            wordFreq[desc] = logFreq"
   ]
  },
  {
   "cell_type": "code",
   "execution_count": 4,
   "metadata": {
    "collapsed": false
   },
   "outputs": [],
   "source": [
    "# # Remove pular words in dictionary\n",
    "# tmpDict = Counter()\n",
    "# for k, v in wordFreq.iteritems():\n",
    "#     if k[-1] == 's' and wordFreq[k[:-1]] > v:\n",
    "#         tmpDict[k[:-1]] += v\n",
    "#     else:\n",
    "#         tmpDict[k] += v\n",
    "# wordFreq = tmpDict"
   ]
  },
  {
   "cell_type": "code",
   "execution_count": 5,
   "metadata": {
    "collapsed": false
   },
   "outputs": [
    {
     "name": "stdout",
     "output_type": "stream",
     "text": [
      "1176 2917\n",
      "4389812 4450878\n",
      "[228720.0, 214224.0, 197916.0, 171302.0, 150927.0, 123172.0, 117897.0, 114941.0, 103360.0, 96414.0]\n"
     ]
    }
   ],
   "source": [
    "# filter descriptions\n",
    "threshold = 100\n",
    "descList = [d for d, c in descCnt.most_common() if c >= threshold and d in wordFreq]\n",
    "descId = {d:i for i, d in enumerate(descList)}\n",
    "descFreq = [float(descCnt[d]) for d in descList]\n",
    "descWordCnt = [len(w.split()) for w in descList]\n",
    "print len(descList), len(descCnt)\n",
    "print sum(descCnt[d] for d in descList), sum(descCnt.itervalues())\n",
    "print descFreq[:10]\n",
    "filterWordNum = lambda lst, k: [a for a, b in zip(lst, descWordCnt) if b == k]"
   ]
  },
  {
   "cell_type": "code",
   "execution_count": 39,
   "metadata": {
    "collapsed": false
   },
   "outputs": [],
   "source": [
    "# Effectiveness score\n",
    "descDistMtx = np.zeros((len(descList), len(catName)))\n",
    "for i, desc in enumerate(descList):\n",
    "    sumOccur = float(descCnt[desc])\n",
    "    for c, v in descCatCnt[desc].iteritems():\n",
    "        descDistMtx[i, c] = v / sumOccur\n",
    "tmpMtx = descDistMtx.dot(simMtxGT)\n",
    "s1_1 = []\n",
    "for i, desc in enumerate(descList):\n",
    "    s1_1.append(log2(np.dot(tmpMtx[i], descDistMtx[i])) + 7)\n",
    "s1_1 = scale(s1_1)\n",
    "\n",
    "s1_2 = []\n",
    "for i, desc in enumerate(descList):\n",
    "    s1_2.append(entropy(descDistMtx[i]))\n",
    "s1_2 = scale(s1_2)"
   ]
  },
  {
   "cell_type": "code",
   "execution_count": 40,
   "metadata": {
    "collapsed": false
   },
   "outputs": [],
   "source": [
    "# Cost score\n",
    "s2_1 = []\n",
    "for desc in descList:\n",
    "    s2_1.append(float(len(desc)))\n",
    "s2_1 = scale(s2_1)\n",
    "\n",
    "s2_2 = []\n",
    "charSet = set('aeiouy')\n",
    "for desc in descList:\n",
    "    s2_2.append(float(len([c for c in desc if c in charSet])))\n",
    "s2_2 = scale(s2_2)\n",
    "\n",
    "s2_3 = []\n",
    "for desc in descList:\n",
    "    s2_3.append(-wordFreq[desc])\n",
    "s2_3 = scale(s2_3)\n",
    "\n",
    "s2_4 = []\n",
    "for desc in descList:\n",
    "    s2_4.append((log2(sum(descCnt.itervalues())) - log2(descCnt[desc])))\n",
    "s2_4 = scale(s2_4)"
   ]
  },
  {
   "cell_type": "code",
   "execution_count": 41,
   "metadata": {
    "collapsed": false
   },
   "outputs": [
    {
     "data": {
      "image/png": "[encoded data removed]",
      "text/plain": [
       "<matplotlib.figure.Figure at 0x7f28bd437490>"
      ]
     },
     "metadata": {},
     "output_type": "display_data"
    }
   ],
   "source": [
    "fig = plt.figure(figsize=(12, 12))\n",
    "ax = fig.add_subplot(1,1,1)\n",
    "scat = ax.scatter(s2_4, s1_1, s=5, edgecolor='')# c=[] , norm=pltColors.LogNorm())\n",
    "# cbar = fig.colorbar(scat, ax=ax)\n",
    "# ax.set_xscale('log')\n",
    "# ax.set_yscale('log')\n",
    "plt.show()"
   ]
  },
  {
   "cell_type": "code",
   "execution_count": 15,
   "metadata": {
    "collapsed": false
   },
   "outputs": [
    {
     "name": "stdout",
     "output_type": "stream",
     "text": [
      "['revolving_door', 'carousel', 'laundromat', 'raft', 'confessional', 'bullring', 'rope_bridge', 'martial_art', 'fire_escape', 'tree_farm']\n",
      "['men', 'man', 'person', 'picture', 'image', 'none', 'unknown', 'viewpoint', 'peoples', 'human']\n"
     ]
    }
   ],
   "source": [
    "print sorted(descList, key=lambda w: s1_1[descId[w]], reverse=False)[:10]\n",
    "print sorted(descList, key=lambda w: s1_1[descId[w]], reverse=True)[:10]"
   ]
  },
  {
   "cell_type": "code",
   "execution_count": 16,
   "metadata": {
    "collapsed": false
   },
   "outputs": [
    {
     "name": "stdout",
     "output_type": "stream",
     "text": [
      "['sandbox', 'revolving_door', 'nursing_home', 'limousine', 'beehive', 'confessional', 'laundromat', 'bowling_alley', 'raft', 'carousel']\n",
      "['place', 'peoples', 'hall', 'building', 'men', 'wall', 'house', 'company', 'room', 'person']\n"
     ]
    }
   ],
   "source": [
    "print sorted(descList, key=lambda w: s1_2[descId[w]], reverse=False)[:10]\n",
    "print sorted(descList, key=lambda w: s1_2[descId[w]], reverse=True)[:10]"
   ]
  },
  {
   "cell_type": "code",
   "execution_count": 17,
   "metadata": {
    "collapsed": false
   },
   "outputs": [
    {
     "name": "stdout",
     "output_type": "stream",
     "text": [
      "['see', 'people', 'well', 'work', 'way', 'system', 'man', 'place', 'public', 'university']\n",
      "['car_port', 'aerogram', 'home_theatre', 'badminton_court', 'wrestling_ring', 'handwash', 'wash_room', 'frontward', 'toll_plaza', 'woodlouse']\n"
     ]
    }
   ],
   "source": [
    "print sorted(descList, key=lambda w: s2_3[descId[w]], reverse=False)[:10]\n",
    "print sorted(descList, key=lambda w: s2_3[descId[w]], reverse=True)[:10]"
   ]
  },
  {
   "cell_type": "code",
   "execution_count": 8,
   "metadata": {
    "collapsed": false
   },
   "outputs": [
    {
     "name": "stdout",
     "output_type": "stream",
     "text": [
      "-0.47153424959 0.222344548536 0.0257370971537\n",
      "['carousel', 'telephone_booth', 'escalator', 'barbershop', 'bowling_alley', 'windmill', 'shooting_range', 'massage', 'bowling', 'bedroom']\n",
      "['mechanist', 'viewpoint', 'organisation', 'manufacturing', 'avenue', 'hose', 'outdoor', 'view', 'architect', 'scenic']\n"
     ]
    }
   ],
   "source": [
    "slope, intercept, r_value, p_value, std_err = linregress(s1_2, s2_4)\n",
    "print slope, r_value**2, std_err\n",
    "evalScore = [a + b for a, b in zip(s1_2, s2_4)]\n",
    "print sorted(descList, key=lambda w: evalScore[descId[w]], reverse=False)[:10]\n",
    "print sorted(descList, key=lambda w: evalScore[descId[w]], reverse=True)[:10]"
   ]
  },
  {
   "cell_type": "code",
   "execution_count": 44,
   "metadata": {
    "collapsed": false
   },
   "outputs": [
    {
     "name": "stdout",
     "output_type": "stream",
     "text": [
      "0.210115266156 0.0441484250717 0.0285339030681\n",
      "['viewpoint', 'labour', 'pot', 'mechanist', 'tile', 'photography', 'public', 'group', 'dark', 'damages', 'chamber', 'set', 'top', 'night', 'gat', 'iron', 'friend', 'avenue', 'image', 'workman', 'walking', 'indoor', 'material', 'institute', 'arts', 'reading', 'exit', 'organisation', 'humans', 'grain', 'lamp', 'decoration', 'watching', 'storage_area', 'rest_area', 'lighting', 'celebration', 'wooden', 'couple', 'assembly', 'sculpture', 'doom', 'tourist', 'stalls', 'interior', 'manufacturing', 'display', 'stand', 'palm_tree', 'structure']\n",
      "['mountain', 'waterfall', 'sea', 'church', 'bedroom', 'factory', 'house', 'telephone_booth', 'stadium', 'falls', 'building', 'forest', 'swimming_pool', 'river', 'escalator', 'restaurant', 'carousel', 'windmill', 'garden', 'water', 'lake', 'shop', 'aquarium', 'barbershop', 'hill', 'playground', 'gym', 'underwater', 'bathroom', 'ocean', 'circus', 'bridge', 'hospital', 'palace', 'highway', 'beach', 'office', 'road', 'massage', 'bowling_alley', 'train', 'car_port', 'ball', 'rock', 'bakery', 'batting_cage', 'boxing', 'phone_booth', 'bus', 'bowling', 'pharmacy', 'shooting_range', 'auditorium', 'fort', 'karate', 'airport', 'basketball_court', 'car_race', 'helicopter', 'ship', 'martial_art', 'cockpit', 'pig', 'classroom', 'washing_machine', 'golf_course', 'bathtub', 'carport', 'cave', 'library', 'billiards', 'boxing_ring', 'hen', 'car', 'pond', 'badminton_court', 'hot_tub', 'dog', 'undersea', 'playschool', 'volcano', 'bullfight', 'baseball_field', 'night_club', 'nature', 'kitchen', 'apartment', 'snow', 'arcade', 'machine', 'courtroom', 'football_field', 'shoe_shop', 'tennis_court', 'fish', 'stonehenge', 'gas_station', 'toilet', 'home', 'canyon']\n"
     ]
    }
   ],
   "source": [
    "slope, intercept, r_value, p_value, std_err = linregress(s1_1, s2_4)\n",
    "print slope, r_value**2, std_err\n",
    "evalScore = [a - b for a, b in zip(s1_1, s2_4)]\n",
    "print sorted(descList, key=lambda w: evalScore[descId[w]], reverse=False)[:50]\n",
    "print sorted(descList, key=lambda w: evalScore[descId[w]], reverse=True)[:100]"
   ]
  },
  {
   "cell_type": "code",
   "execution_count": 29,
   "metadata": {
    "collapsed": false
   },
   "outputs": [
    {
     "name": "stdout",
     "output_type": "stream",
     "text": [
      "-0.418737891116 0.175341421456 0.0164270816429\n"
     ]
    }
   ],
   "source": [
    "slope, intercept, r_value, p_value, std_err = linregress(s1_2, s2_3)\n",
    "print slope, r_value**2, std_err"
   ]
  },
  {
   "cell_type": "code",
   "execution_count": 15,
   "metadata": {
    "collapsed": false
   },
   "outputs": [
    {
     "name": "stdout",
     "output_type": "stream",
     "text": [
      "-0.441600895183 0.195011350626 0.0258787112312\n"
     ]
    }
   ],
   "source": [
    "slope, intercept, r_value, p_value, std_err = linregress(filterWordNum(s1_2, 1), filterWordNum(s2_3, 1))\n",
    "print slope, r_value**2, std_err"
   ]
  },
  {
   "cell_type": "code",
   "execution_count": 16,
   "metadata": {
    "collapsed": false
   },
   "outputs": [
    {
     "name": "stdout",
     "output_type": "stream",
     "text": [
      "0.869364217099 0.755794141972 0.014253640631\n"
     ]
    }
   ],
   "source": [
    "slope, intercept, r_value, p_value, std_err = linregress(s1_1, s1_2)\n",
    "print slope, r_value**2, std_err"
   ]
  },
  {
   "cell_type": "code",
   "execution_count": null,
   "metadata": {
    "collapsed": true
   },
   "outputs": [],
   "source": []
  }
 ],
 "metadata": {
  "kernelspec": {
   "display_name": "Python 2",
   "language": "python",
   "name": "python2"
  },
  "language_info": {
   "codemirror_mode": {
    "name": "ipython",
    "version": 2
   },
   "file_extension": ".py",
   "mimetype": "text/x-python",
   "name": "python",
   "nbconvert_exporter": "python",
   "pygments_lexer": "ipython2",
   "version": "2.7.6"
  }
 },
 "nbformat": 4,
 "nbformat_minor": 0
}
