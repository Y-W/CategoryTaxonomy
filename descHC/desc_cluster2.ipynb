{
 "cells": [
  {
   "cell_type": "markdown",
   "metadata": {},
   "source": [
    "Clustering Description, not based on visual categories\n",
    "==============================="
   ]
  },
  {
   "cell_type": "code",
   "execution_count": 33,
   "metadata": {
    "collapsed": true
   },
   "outputs": [],
   "source": [
    "import numpy as np\n",
    "from collections import Counter, defaultdict\n",
    "import csv\n",
    "from scipy.stats import entropy\n",
    "import multiprocessing as mp\n",
    "from functools import partial\n",
    "import pickle\n",
    "import gzip\n",
    "from heapq import *\n",
    "import json\n",
    "import sys"
   ]
  },
  {
   "cell_type": "code",
   "execution_count": 34,
   "metadata": {
    "collapsed": false
   },
   "outputs": [
    {
     "name": "stdout",
     "output_type": "stream",
     "text": [
      "True\n",
      "['category_id', 'description', 'count']\n",
      "3058\n"
     ]
    }
   ],
   "source": [
    "# Load files\n",
    "catNameFile = 'data/categoryKey.csv'\n",
    "catName = {}\n",
    "with open(catNameFile) as fin:\n",
    "    r = csv.reader(fin)\n",
    "    for row in r:\n",
    "        catName[int(row[0]) - 1] = row[1]\n",
    "numCat = len(catName)\n",
    "print range(numCat) == catName.keys()\n",
    "\n",
    "inputFile = 'data/cat_desc_wn.csv'\n",
    "headers = None\n",
    "descCatCntRaw = defaultdict(lambda :np.zeros(numCat))\n",
    "# catCnt = np.zeros(numCat)\n",
    "with open(inputFile) as fin:\n",
    "    r = csv.reader(fin)\n",
    "    for row in r:\n",
    "        if headers is None:\n",
    "            headers = row\n",
    "            print headers\n",
    "        else:\n",
    "            cat, desc, cnt = row\n",
    "            cat = int(cat) - 1\n",
    "            cnt = int(cnt)\n",
    "            descCatCntRaw[desc][cat] += cnt\n",
    "            catCnt[cat] += cnt\n",
    "descCnt = Counter()\n",
    "for desc in descCatCnt:\n",
    "    descCatCnt[desc] /= catCnt\n",
    "    descCnt[desc] = np.sum(descCatCnt[desc])\n",
    "print len(descCatCnt)"
   ]
  },
  {
   "cell_type": "code",
   "execution_count": 35,
   "metadata": {
    "collapsed": false
   },
   "outputs": [],
   "source": [
    "def descFilter(topNum=1000):\n",
    "    return [w for w, v in descCnt.most_common(topNum)]"
   ]
  },
  {
   "cell_type": "code",
   "execution_count": 36,
   "metadata": {
    "collapsed": true
   },
   "outputs": [],
   "source": [
    "def mergeCandidiate(nodeInfo, s1, s2):\n",
    "    return (entropy(nodeInfo[s1][4] + nodeInfo[s2][4]),\n",
    "#             - (nodeInfo[s1][5] + nodeInfo[s2][5]) / (nodeInfo[s1][3] + nodeInfo[s2][3]), \n",
    "           s1, s2)\n",
    "    \n",
    "def updateCandidate(nodeInfo, newS, activeNodes, candidatePool):\n",
    "    for s2 in activeNodes:\n",
    "        heappush(candidatePool, mergeCandidiate(nodeInfo, newS, s2))\n",
    "    activeNodes.add(newS)\n",
    "\n",
    "def chooseCandidate(nodeInfo, candidatePool, activeNodes, newId):\n",
    "    jsd, s1, s2 = heappop(candidatePool)\n",
    "    while s1 not in activeNodes or s2 not in activeNodes:\n",
    "        jsd, s1, s2 = heappop(candidatePool)\n",
    "    nodeInfo.append((newId, s1, s2, nodeInfo[s1][3] + nodeInfo[s2][3], nodeInfo[s1][4] + nodeInfo[s2][4],\n",
    "                    nodeInfo[s1][5] + nodeInfo[s2][5], jsd))\n",
    "    activeNodes.remove(s1)\n",
    "    activeNodes.remove(s2)\n",
    "    \n",
    "def descHC(descList):\n",
    "    leafNum = len(descList)\n",
    "    activeNodes = set()\n",
    "    nodeInfo = []\n",
    "    candidatePool = []\n",
    "    heapify(candidatePool)\n",
    "    \n",
    "    for leaf in xrange(leafNum):\n",
    "        desc = descList[leaf]\n",
    "        nodeInfo.append((leaf, None, None, descCnt[desc], descCatCnt[desc], entropy(descCatCnt[desc]), 0.0))\n",
    "        updateCandidate(nodeInfo, leaf, activeNodes, candidatePool)\n",
    "        if leaf % 100 == 0:\n",
    "            print 'Adding leaf #', leaf\n",
    "    \n",
    "    nextId = leafNum\n",
    "    while len(activeNodes) > 1:\n",
    "        chooseCandidate(nodeInfo, candidatePool, activeNodes, nextId)\n",
    "        updateCandidate(nodeInfo, nextId, activeNodes, candidatePool)\n",
    "        nextId += 1\n",
    "        if len(activeNodes) % 100 == 0:\n",
    "            print 'Remaining active nodes #', len(activeNodes)\n",
    "    return nodeInfo"
   ]
  },
  {
   "cell_type": "code",
   "execution_count": 37,
   "metadata": {
    "collapsed": true
   },
   "outputs": [],
   "source": [
    "# from scipy.stats import entropy # can't handle entropy(np.array([0, 1, 1]), np.array([0, 1, 1]))\\n\n",
    "from numpy.linalg import norm\n",
    "def JSD(P, Q):\n",
    "    _P = P / float(norm(P, ord=1))\n",
    "    _Q = Q / float(norm(Q, ord=1))\n",
    "    _M = 0.5 * (_P + _Q)\n",
    "    return entropy(_M) - 0.5 * (entropy(_P) + entropy(_Q))\n",
    "\n",
    "def nameCluster(descList, nodeInfo):\n",
    "    leafNum = len(descList)\n",
    "    totalNodes = len(nodeInfo)\n",
    "    namingCandidate = []\n",
    "    for desc in descList:\n",
    "        namingCandidate.append(set([desc]))\n",
    "    for p in xrange(leafNum, totalNodes):\n",
    "        s1, s2 = nodeInfo[p][1], nodeInfo[p][2]\n",
    "        namingCandidate.append(namingCandidate[s1] | namingCandidate[s2])\n",
    "    bestNaming = []\n",
    "    for i in xrange(totalNodes):\n",
    "        cand = namingCandidate[i]\n",
    "        tmp = np.zeros(numCat)\n",
    "        for c in cand:\n",
    "            tmp += descCatCnt[c]\n",
    "        if i < leafNum:\n",
    "            bestNaming.append(descList[i])\n",
    "        else:\n",
    "            bestNaming.append(min(cand, key=lambda w: JSD(nodeInfo[i][4], descCatCnt[w])))\n",
    "        if i % 100 == 0:\n",
    "            print 'Finding best Naming #', i\n",
    "    return bestNaming"
   ]
  },
  {
   "cell_type": "code",
   "execution_count": 38,
   "metadata": {
    "collapsed": true
   },
   "outputs": [],
   "source": [
    "def recur_flattenTree(nodeInfo, bestNaming, usedWords, nodeList, root, parent, level):\n",
    "    s1, s2 = nodeInfo[root][1], nodeInfo[root][2]\n",
    "#     print root, s1, s2, parent, level\n",
    "    if bestNaming[root] in usedWords:\n",
    "        if s1 is None and s2 is None:\n",
    "            return ()\n",
    "        else:\n",
    "            st1 = recur_flattenTree(nodeInfo, bestNaming, usedWords, nodeList, s1, parent, level)\n",
    "            st2 = recur_flattenTree(nodeInfo, bestNaming, usedWords, nodeList, s2, parent, level)\n",
    "            return st1 + st2\n",
    "    else:\n",
    "        nm = bestNaming[root]\n",
    "        usedWords.add(nm)\n",
    "        if s1 is None and s2 is None:\n",
    "            nodeList.append((nm, parent, (), level))\n",
    "            return ({'name':nm, 'children':()},)\n",
    "        else:\n",
    "            st1 = recur_flattenTree(nodeInfo, bestNaming, usedWords, nodeList, s1, nm, level + 1)\n",
    "            st2 = recur_flattenTree(nodeInfo, bestNaming, usedWords, nodeList, s2, nm, level + 1)\n",
    "            sons = st1 + st2\n",
    "            nodeList.append((nm, parent, tuple(s['name'] for s in sons), level))\n",
    "            return ({'name':nm, 'children':sons},)\n",
    "\n",
    "def flattenTree(nodeInfo, bestNaming, descList):\n",
    "    nodeList = []\n",
    "    usedWords = set()\n",
    "    tree = recur_flattenTree(nodeInfo, bestNaming, usedWords, nodeList, len(nodeInfo) - 1, None, 0)\n",
    "    if set(descList) != usedWords or len(tree) != 1:\n",
    "        raise RuntimeError('Something is wrong @ flattenTree!')\n",
    "    return tree[0], nodeList"
   ]
  },
  {
   "cell_type": "code",
   "execution_count": 39,
   "metadata": {
    "collapsed": true
   },
   "outputs": [],
   "source": [
    "webpageFormat = 'vis/sample.html'\n",
    "with open(webpageFormat) as fin:\n",
    "    webpageString = fin.read()\n",
    "def visTree(tree, treeSize, name):\n",
    "    with open('vis/data/' + name + '.json', 'w') as fout:\n",
    "        json.dump(tree, fout)\n",
    "    with open('vis/' + name + '.html', 'w') as fout:\n",
    "        print >>fout, webpageString.replace('##PATH_TO_TREE_JSON##', 'data/' + name + '.json')\\\n",
    "                        .replace('##HEIGHT##', str(10 * treeSize))"
   ]
  },
  {
   "cell_type": "code",
   "execution_count": 40,
   "metadata": {
    "collapsed": true
   },
   "outputs": [],
   "source": [
    "def buildDescTaxo(topNum):\n",
    "    sys.setrecursionlimit(topNum * 2)\n",
    "    descList = descFilter(topNum)\n",
    "    nodeInfo = descHC(descList)\n",
    "    bestNaming = nameCluster(descList, nodeInfo)\n",
    "    tree, treeNodes = flattenTree(nodeInfo, bestNaming, descList)\n",
    "    name = 'descTaxo_' + str(topNum)\n",
    "    visTree(tree, len(treeNodes), name)\n",
    "    with gzip.open('model/' + name + '.pickle.gz', 'wb') as fout:\n",
    "        pickle.dump(treeNodes, fout)\n",
    "    print 'Finished', topNum"
   ]
  },
  {
   "cell_type": "code",
   "execution_count": 41,
   "metadata": {
    "collapsed": false
   },
   "outputs": [],
   "source": [
    "# topNum = 500\n",
    "# sys.setrecursionlimit(topNum * 2)\n",
    "# descList = descFilter(topNum)\n",
    "# nodeInfo = descHC(descList)\n",
    "# bestNaming = nameCluster(descList, nodeInfo)\n",
    "# tree, treeNodes = flattenTree(nodeInfo, bestNaming, descList)\n",
    "# name = 'descTaxo_' + str(topNum)\n",
    "# visTree(tree, len(treeNodes), name)\n",
    "# with gzip.open('model/' + name + '.pickle.gz', 'wb') as fout:\n",
    "#     pickle.dump(treeNodes, fout)\n",
    "# print 'Finished', topNum"
   ]
  },
  {
   "cell_type": "code",
   "execution_count": 43,
   "metadata": {
    "collapsed": false
   },
   "outputs": [
    {
     "name": "stdout",
     "output_type": "stream",
     "text": [
      "Adding leaf # 0\n",
      "Adding leaf # 100\n",
      "Adding leaf # 200\n",
      "Adding leaf # 300\n",
      "Adding leaf # 400\n",
      "Adding leaf # 500\n",
      "Adding leaf # 600\n",
      "Adding leaf # 700\n",
      "Adding leaf # 800\n",
      "Adding leaf # 900\n",
      "Adding leaf # 1000\n",
      "Adding leaf # 1100\n",
      "Remaining active nodes # 1100\n",
      "Remaining active nodes # 1000\n",
      "Remaining active nodes # 900\n",
      "Remaining active nodes # 800\n",
      "Remaining active nodes # 700\n",
      "Remaining active nodes # 600\n",
      "Remaining active nodes # 500\n",
      "Remaining active nodes # 400\n",
      "Remaining active nodes # 300\n",
      "Remaining active nodes # 200\n",
      "Remaining active nodes # 100\n",
      "Finding best Naming # 0\n",
      "Finding best Naming # 100\n",
      "Finding best Naming # 200\n",
      "Finding best Naming # 300\n",
      "Finding best Naming # 400\n",
      "Finding best Naming # 500\n",
      "Finding best Naming # 600\n",
      "Finding best Naming # 700\n",
      "Finding best Naming # 800\n",
      "Finding best Naming # 900\n",
      "Finding best Naming # 1000\n",
      "Finding best Naming # 1100\n",
      "Finding best Naming # 1200\n",
      "Finding best Naming # 1300\n",
      "Finding best Naming # 1400\n",
      "Finding best Naming # 1500\n",
      "Finding best Naming # 1600\n",
      "Finding best Naming # 1700\n",
      "Finding best Naming # 1800\n",
      "Finding best Naming # 1900\n",
      "Finding best Naming # 2000\n",
      "Finding best Naming # 2100\n",
      "Finding best Naming # 2200\n",
      "Finding best Naming # 2300\n",
      "Finished 1200\n"
     ]
    }
   ],
   "source": [
    "buildDescTaxo(1200)"
   ]
  },
  {
   "cell_type": "code",
   "execution_count": null,
   "metadata": {
    "collapsed": true
   },
   "outputs": [],
   "source": []
  }
 ],
 "metadata": {
  "kernelspec": {
   "display_name": "Python 2",
   "language": "python",
   "name": "python2"
  },
  "language_info": {
   "codemirror_mode": {
    "name": "ipython",
    "version": 2
   },
   "file_extension": ".py",
   "mimetype": "text/x-python",
   "name": "python",
   "nbconvert_exporter": "python",
   "pygments_lexer": "ipython2",
   "version": "2.7.6"
  }
 },
 "nbformat": 4,
 "nbformat_minor": 0
}
