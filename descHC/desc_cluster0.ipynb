{
 "cells": [
  {
   "cell_type": "markdown",
   "metadata": {},
   "source": [
    "Hierarchical Clustering for Description Dataset\n",
    "=========================="
   ]
  },
  {
   "cell_type": "code",
   "execution_count": 1,
   "metadata": {
    "collapsed": true
   },
   "outputs": [],
   "source": [
    "import numpy as np\n",
    "from sklearn.cluster import spectral_clustering\n",
    "import csv\n",
    "from collections import defaultdict\n",
    "import scipy.io as sio\n",
    "from glob import glob"
   ]
  },
  {
   "cell_type": "code",
   "execution_count": 2,
   "metadata": {
    "collapsed": false
   },
   "outputs": [
    {
     "name": "stdout",
     "output_type": "stream",
     "text": [
      "ground truth (1055, 1055)\n",
      "\n",
      "['model/angular_sim', 'model/cosine_sim', 'model/innerProd_sim', 'model/jsd_sim', 'model/l1_sim', 'model/l2_sim']\n",
      "model/angular_sim (1055, 1055)\n",
      "model/cosine_sim (1055, 1055)\n",
      "model/innerProd_sim (1055, 1055)\n",
      "model/jsd_sim (1055, 1055)\n",
      "model/l1_sim (1055, 1055)\n",
      "model/l2_sim (1055, 1055)\n"
     ]
    }
   ],
   "source": [
    "# Load ground truth\n",
    "groundTruthFile = 'data/largeSimMatrix.mat'\n",
    "groundTruth = sio.loadmat(groundTruthFile)['largeSimMatrix']\n",
    "groundTruth = 1.0 - groundTruth\n",
    "print 'ground truth', groundTruth.shape\n",
    "print\n",
    "\n",
    "# Load similarity matrix\n",
    "simMtxFileLst = sorted(glob('model/*_sim.csv'))\n",
    "simMtx = {f.split('.')[0]:np.loadtxt(f, delimiter=',') for f in simMtxFileLst}\n",
    "simMtxTypes = sorted(simMtx.keys())\n",
    "print simMtxTypes\n",
    "for name in simMtxTypes:\n",
    "    print name, simMtx[name].shape\n",
    "\n",
    "# Load category names\n",
    "catNameFile = 'data/categoryKey.csv'\n",
    "catName = {}\n",
    "with open(catNameFile) as fin:\n",
    "    r = csv.reader(fin)\n",
    "    for row in r:\n",
    "        catName[int(row[0])] = row[1]\n",
    "catList = sorted(catName.keys())"
   ]
  },
  {
   "cell_type": "code",
   "execution_count": 3,
   "metadata": {
    "collapsed": false
   },
   "outputs": [],
   "source": [
    "catNameFile = 'data/categoryKey.csv'\n",
    "catName = {}\n",
    "with open(catNameFile) as fin:\n",
    "    r = csv.reader(fin)\n",
    "    for row in r:\n",
    "        catName[int(row[0])] = row[1]\n",
    "catList = sorted(catName.keys())"
   ]
  },
  {
   "cell_type": "code",
   "execution_count": 4,
   "metadata": {
    "collapsed": true
   },
   "outputs": [],
   "source": [
    "def printClustering(labels, size=10):\n",
    "    rest = defaultdict(list)\n",
    "    for l, c in zip(labels, catList):\n",
    "        rest[l].append(catName[c])\n",
    "    for l in sorted(rest.keys()):\n",
    "        print l, len(rest[l]), rest[l][:size]"
   ]
  },
  {
   "cell_type": "code",
   "execution_count": 5,
   "metadata": {
    "collapsed": false
   },
   "outputs": [
    {
     "name": "stdout",
     "output_type": "stream",
     "text": [
      "model/angular_sim\n",
      "0 1054 ['abbey', 'abutment arch', 'access road', 'acropolis', 'africa', 'agora', 'agriculture', 'air field', 'airlock', 'airplane']\n",
      "1 1 ['guest room']\n",
      "\n",
      "model/cosine_sim\n",
      "0 1027 ['abbey', 'abutment arch', 'access road', 'acropolis', 'africa', 'agora', 'agriculture', 'air field', 'airlock', 'airplane']\n",
      "1 28 ['aisle', 'assembly line', 'bistro', 'cascade', 'cirque', 'crag', 'dale', 'escarpment', 'exterior', 'glen']\n",
      "\n",
      "model/innerProd_sim\n",
      "0 1054 ['abbey', 'abutment arch', 'access road', 'acropolis', 'africa', 'agora', 'agriculture', 'air field', 'airlock', 'airplane']\n",
      "1 1 ['hotel room']\n",
      "\n",
      "model/jsd_sim\n",
      "0 1053 ['abbey', 'abutment arch', 'access road', 'acropolis', 'africa', 'agora', 'agriculture', 'air field', 'airlock', 'airplane']\n",
      "1 2 ['motel room', 'waterfall (cataract)']\n",
      "\n",
      "model/l1_sim\n",
      "0 1054 ['abbey', 'abutment arch', 'access road', 'acropolis', 'africa', 'agora', 'agriculture', 'air field', 'airlock', 'airplane']\n",
      "1 1 ['motel room']\n",
      "\n",
      "model/l2_sim\n",
      "0 1038 ['abbey', 'abutment arch', 'access road', 'acropolis', 'africa', 'agora', 'agriculture', 'air field', 'airlock', 'airplane']\n",
      "1 17 ['cantilevel bridge', 'chapel', 'chemical plant', 'forest', 'guest room', 'hotel room', 'industrial', 'mountain', 'particle accelerator', 'precipice']\n",
      "\n"
     ]
    }
   ],
   "source": [
    "for name in simMtxTypes:\n",
    "    print name\n",
    "    printClustering(spectral_clustering(simMtx[name], n_clusters=2, eigen_solver='arpack'))\n",
    "    print"
   ]
  },
  {
   "cell_type": "code",
   "execution_count": null,
   "metadata": {
    "collapsed": true
   },
   "outputs": [],
   "source": []
  }
 ],
 "metadata": {
  "kernelspec": {
   "display_name": "Python 2",
   "language": "python",
   "name": "python2"
  },
  "language_info": {
   "codemirror_mode": {
    "name": "ipython",
    "version": 2
   },
   "file_extension": ".py",
   "mimetype": "text/x-python",
   "name": "python",
   "nbconvert_exporter": "python",
   "pygments_lexer": "ipython2",
   "version": "2.7.6"
  }
 },
 "nbformat": 4,
 "nbformat_minor": 0
}
