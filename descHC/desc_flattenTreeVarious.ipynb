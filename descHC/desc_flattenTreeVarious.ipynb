{
 "cells": [
  {
   "cell_type": "markdown",
   "metadata": {},
   "source": [
    "Exloring various threshold for flattening the taxonomy tree\n",
    "================================="
   ]
  },
  {
   "cell_type": "code",
   "execution_count": 1,
   "metadata": {
    "collapsed": true
   },
   "outputs": [],
   "source": [
    "from collections import Counter, defaultdict, deque\n",
    "import pickle\n",
    "import gzip\n",
    "import csv\n",
    "import json"
   ]
  },
  {
   "cell_type": "code",
   "execution_count": 2,
   "metadata": {
    "collapsed": false
   },
   "outputs": [
    {
     "name": "stdout",
     "output_type": "stream",
     "text": [
      "8313\n"
     ]
    }
   ],
   "source": [
    "# Load files\n",
    "catNameFile = 'data/categoryKey.csv'\n",
    "catName = {}\n",
    "with open(catNameFile) as fin:\n",
    "    r = csv.reader(fin)\n",
    "    for row in r:\n",
    "        catName[int(row[0]) - 1] = row[1]\n",
    "\n",
    "# Load taxonomy tree\n",
    "taxonomyFile = 'model/hcTree1.pickle.gz'\n",
    "with gzip.open(taxonomyFile) as fin:\n",
    "    taxoTreeNodes = pickle.load(fin)\n",
    "\n",
    "# Load label info\n",
    "treeLabelFile = 'model/hcTree1_matching.pickle.gz'\n",
    "with gzip.open(treeLabelFile) as fin:\n",
    "    matchingMtx, descList = pickle.load(fin)\n",
    "print len(descList)\n",
    "\n",
    "# Load web page format\n",
    "webpageFormat = 'vis/sample.html'\n",
    "with open(webpageFormat) as fin:\n",
    "    webpageString = fin.read()"
   ]
  },
  {
   "cell_type": "code",
   "execution_count": 3,
   "metadata": {
    "collapsed": true
   },
   "outputs": [],
   "source": [
    "def assignMatching(topDesc=0):\n",
    "    if topDesc <= 0:\n",
    "        topDesc = len(descList)\n",
    "    # Find best matching for each description\n",
    "    descBest = [0] * topDesc\n",
    "    for i, val in enumerate(matchingMtx):\n",
    "        for j, v in enumerate(val[:topDesc]):\n",
    "            if v < matchingMtx[descBest[j]][j]:\n",
    "                descBest[j] = i\n",
    "\n",
    "    # Find best matching for each node\n",
    "    nodeBest = [val.index(min(val[:topDesc])) for val in matchingMtx]\n",
    "\n",
    "    # Designate node description\n",
    "    return [d if descBest[d] == i else None for i, d in enumerate(nodeBest)]"
   ]
  },
  {
   "cell_type": "code",
   "execution_count": 4,
   "metadata": {
    "collapsed": true
   },
   "outputs": [],
   "source": [
    "def buildFlattenedTree_recur(nodeDesc, topNode, sizeLimit=0):\n",
    "    nodeRec = taxoTreeNodes[topNode]\n",
    "    if nodeRec[0] < sizeLimit:\n",
    "        return ()\n",
    "    s1, s2 = nodeRec[-3], nodeRec[-2]\n",
    "    if s1 is None and s2 is None:\n",
    "        return ({'name':catName[topNode], 'children':()},)\n",
    "    else:\n",
    "        st1 = buildFlattenedTree_recur(nodeDesc, s1, sizeLimit)\n",
    "        st2 = buildFlattenedTree_recur(nodeDesc, s2, sizeLimit)\n",
    "        if nodeDesc[topNode - len(catName)] is not None:\n",
    "            return ({'name':descList[nodeDesc[topNode - len(catName)]], 'children':st1+st2},)\n",
    "        else:\n",
    "            return st1+st2\n",
    "    \n",
    "def buildFlattenedTree(nodeDesc, sizeLimit=0):\n",
    "    topNode = len(taxoTreeNodes) - 1\n",
    "    rootForest = buildFlattenedTree_recur(nodeDesc, topNode, sizeLimit)\n",
    "    if len(rootForest) == 1:\n",
    "        return rootForest[0]\n",
    "    else:\n",
    "        return {'name':'ROOT', 'children':rootForest}\n",
    "\n",
    "def treeSize(tree):\n",
    "    ans = 1\n",
    "    for c in tree['children']:\n",
    "        ans += treeSize(c)\n",
    "    return ans"
   ]
  },
  {
   "cell_type": "code",
   "execution_count": 5,
   "metadata": {
    "collapsed": true
   },
   "outputs": [],
   "source": [
    "def listNodes(tree):\n",
    "    nm = 'name'\n",
    "    cn = 'children'\n",
    "    queue = deque([tree])\n",
    "    nodeLst = []\n",
    "    parent = {0:None}\n",
    "    nextNodeId = 0\n",
    "    nextQueueId = 1\n",
    "    while len(queue) > 0:\n",
    "        t = queue.popleft()\n",
    "        stLst = []\n",
    "        for st in t[cn]:\n",
    "            parent[nextQueueId] = nextNodeId\n",
    "            queue.append(st)\n",
    "            stLst.append(nextQueueId)\n",
    "            nextQueueId += 1\n",
    "        nodeLst.append((t[nm], parent[nextNodeId], tuple(stLst)))\n",
    "        nextNodeId += 1\n",
    "    return nodeLst"
   ]
  },
  {
   "cell_type": "code",
   "execution_count": 6,
   "metadata": {
    "collapsed": false
   },
   "outputs": [
    {
     "name": "stdout",
     "output_type": "stream",
     "text": [
      "taxoTree_0_0\n",
      "taxoTree_0_5\n",
      "taxoTree_5000_0\n",
      "taxoTree_5000_5\n",
      "taxoTree_3000_0\n",
      "taxoTree_3000_5\n",
      "taxoTree_2000_0\n",
      "taxoTree_2000_5\n"
     ]
    }
   ],
   "source": [
    "topDescLst = [0, 5000, 3000, 2000]\n",
    "sizeLimitLst = [0, 5]\n",
    "for topDesc in topDescLst:\n",
    "    for sizeLimit in sizeLimitLst:\n",
    "        name = 'taxoTree_' + str(topDesc) + '_' + str(sizeLimit)\n",
    "        nodeDesc = assignMatching(topDesc)\n",
    "        taxoTree = buildFlattenedTree(nodeDesc, sizeLimit)\n",
    "        with open('vis/data/' + name + '.json', 'w') as fout:\n",
    "            json.dump(taxoTree, fout)\n",
    "        with open('vis/' + name + '.html', 'w') as fout:\n",
    "            print >>fout, webpageString.replace('##PATH_TO_TREE_JSON##', 'data/' + name + '.json')\\\n",
    "                                .replace('##HEIGHT##', str(10 * treeSize(taxoTree)))\n",
    "        nodeLst = listNodes(taxoTree)\n",
    "        with gzip.open('model/' + name + '.pickle.gz', 'wb') as fout:\n",
    "            pickle.dump(nodeLst, fout)\n",
    "        print name"
   ]
  },
  {
   "cell_type": "code",
   "execution_count": null,
   "metadata": {
    "collapsed": true
   },
   "outputs": [],
   "source": []
  }
 ],
 "metadata": {
  "kernelspec": {
   "display_name": "Python 2",
   "language": "python",
   "name": "python2"
  },
  "language_info": {
   "codemirror_mode": {
    "name": "ipython",
    "version": 2
   },
   "file_extension": ".py",
   "mimetype": "text/x-python",
   "name": "python",
   "nbconvert_exporter": "python",
   "pygments_lexer": "ipython2",
   "version": "2.7.6"
  }
 },
 "nbformat": 4,
 "nbformat_minor": 0
}
