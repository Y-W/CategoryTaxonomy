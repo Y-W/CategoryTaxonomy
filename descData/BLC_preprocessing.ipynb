{
 "cells": [
  {
   "cell_type": "markdown",
   "metadata": {},
   "source": [
    "Basic-level Category Preprocessing\n",
    "==================="
   ]
  },
  {
   "cell_type": "code",
   "execution_count": 11,
   "metadata": {
    "collapsed": true
   },
   "outputs": [],
   "source": [
    "from string import letters, punctuation, whitespace, printable, digits\n",
    "import csv\n",
    "import re\n",
    "import string\n",
    "from collections import Counter, defaultdict"
   ]
  },
  {
   "cell_type": "code",
   "execution_count": 12,
   "metadata": {
    "collapsed": false
   },
   "outputs": [
    {
     "name": "stdout",
     "output_type": "stream",
     "text": [
      "['image_filename', 'image_category_id', 'description']\n",
      "ALL\t1229245740\n"
     ]
    }
   ],
   "source": [
    "# Load file\n",
    "wordCatCnt = defaultdict(Counter)\n",
    "rawDescHeaders = None\n",
    "with open('data/rawDesc.csv') as fin:\n",
    "    csvReader = csv.reader(fin)\n",
    "    for row in csvReader:\n",
    "        if rawDescHeaders is None:\n",
    "            rawDescHeaders = row\n",
    "        else:\n",
    "            wordCatCnt[row[2]][row[1]] += 1\n",
    "print rawDescHeaders\n",
    "\n",
    "wordFreq = Counter()\n",
    "with open('data/wikipedia_wordfreq.txt') as fin:\n",
    "    skipLine = 1 # Skipping first line\n",
    "    for line in fin:\n",
    "        line = line.strip()\n",
    "        if skipLine > 0:\n",
    "            skipLine -= 1\n",
    "            print line\n",
    "        else:\n",
    "            w, c = line.strip().split('\\t')\n",
    "            wordFreq[w.strip().lower()] = int(c)"
   ]
  },
  {
   "cell_type": "code",
   "execution_count": 13,
   "metadata": {
    "collapsed": true
   },
   "outputs": [],
   "source": [
    "def words(text): return re.findall('[a-z]+', text.lower())\n",
    "def scorePhrase(phrase):\n",
    "    return min(wordFreq[w] for w in words(phrase))"
   ]
  },
  {
   "cell_type": "code",
   "execution_count": 14,
   "metadata": {
    "collapsed": true
   },
   "outputs": [],
   "source": [
    "# Make string updates faster\n",
    "def applyUpdates(updateMap, warningThreshold=50):\n",
    "    removalWarning = 0\n",
    "    removalWarningSum = 0\n",
    "    splitWarning = 0\n",
    "    splitWarningSum = 0\n",
    "    for w in updateMap:\n",
    "        if w in wordCatCnt:\n",
    "            t = updateMap[w]\n",
    "            catCnt = wordCatCnt[w]\n",
    "            sumCnt = sum(catCnt.itervalues())\n",
    "            if w == t: continue\n",
    "            if sumCnt >= warningThreshold:\n",
    "                print w, sumCnt, '-->', t\n",
    "            if t is None or len(t) == 0:\n",
    "                removalWarning += 1\n",
    "                removalWarningSum += sumCnt\n",
    "                del wordCatCnt[w]\n",
    "            elif type(t) is tuple or type(t) is list:\n",
    "                splitWarning += 1\n",
    "                splitWarningSum += sumCnt\n",
    "                del wordCatCnt[w]\n",
    "                for newW in t:\n",
    "                    wordCatCnt[newW] += catCnt\n",
    "            else:\n",
    "                del wordCatCnt[w]\n",
    "                wordCatCnt[t] += catCnt\n",
    "        else:\n",
    "            raise RuntimeError('Update rule is not applicable: ' + w + ' ' + updateMap[w])\n",
    "    if removalWarning > 0:\n",
    "        print 'WARNING - Removing entries:', removalWarning, removalWarningSum\n",
    "    if splitWarning > 0:\n",
    "        print 'WARNING - Splitting entries:', splitWarning, splitWarningSum\n",
    "\n",
    "def getWordCnt():\n",
    "    return Counter({w:sum(c.itervalues()) for w, c in wordCatCnt.iteritems()})\n",
    "\n",
    "def fastUpdate(fn, warningThreshold=50, enforce=True):\n",
    "    updateMap = {w:fn(w) for w in wordCatCnt.iterkeys()}\n",
    "    if enforce: applyUpdates(updateMap, warningThreshold)\n",
    "\n",
    "def fullUpdate(fn, warningThreshold=50, enforce=True):\n",
    "    wordCnt = getWordCnt()\n",
    "    updateMap = fn(wordCnt)\n",
    "    if enforce: applyUpdates(updateMap, warningThreshold)"
   ]
  },
  {
   "cell_type": "code",
   "execution_count": 15,
   "metadata": {
    "collapsed": false
   },
   "outputs": [
    {
     "name": "stdout",
     "output_type": "stream",
     "text": [
      "WARNING - Removing entries: 45 51\n",
      "WARNING - Removing entries: 5 5\n",
      "house & garden 60 --> house   garden\n",
      "dinning room. 162 --> dinning room \n",
      "dentist's office 66 --> dentist s office\n",
      "children's park 574 --> children s park\n",
      "children's room 72 --> children s room\n",
      "multi-storeyed building 109 --> multi storeyed building\n",
      "bathroom. 50 --> bathroom \n",
      "Church 10324 --> church\n",
      "Forest 19664 --> forest\n",
      "Garden 10108 --> garden\n",
      "Hall 23573 --> hall\n",
      "Factory 20501 --> factory\n",
      "House 22415 --> house\n",
      "Sea 10379 --> sea\n",
      "Shop 11444 --> shop\n",
      "Mountain 18483 --> mountain\n",
      "Building 27362 --> building\n",
      "WARNING - Removing entries: 2 8\n"
     ]
    }
   ],
   "source": [
    "def removeNonPrintableAnswers(w):\n",
    "    if all(c in printable for c in w):\n",
    "        return w\n",
    "    else:\n",
    "        return None\n",
    "fastUpdate(removeNonPrintableAnswers)\n",
    "\n",
    "def removeNumbers(w):\n",
    "    return w.translate(None, digits)\n",
    "fastUpdate(removeNumbers)\n",
    "\n",
    "def punctuationWhitespace2Space(w):\n",
    "    s = [' ' if (c in whitespace or c in punctuation) else c for c in w]\n",
    "    return ''.join(s)\n",
    "fastUpdate(punctuationWhitespace2Space)\n",
    "\n",
    "# Make everything lowercase, remove leading and trailing spaces/punctuations, and remove multiple spaces\n",
    "def lowercaseStripMultipleSpaces(w):\n",
    "    w = w.lower().strip()\n",
    "    return re.sub(' +',' ', w)\n",
    "fastUpdate(lowercaseStripMultipleSpaces, warningThreshold=10000)"
   ]
  },
  {
   "cell_type": "code",
   "execution_count": 19,
   "metadata": {
    "collapsed": false
   },
   "outputs": [
    {
     "name": "stdout",
     "output_type": "stream",
     "text": [
      "bath tub 1092 --> bathtub\n",
      "super market 3038 --> supermarket\n",
      "race track 1245 --> racetrack\n",
      "sea shore 1759 --> seashore\n",
      "show room 2151 --> showroom\n",
      "high way 1050 --> highway\n",
      "play ground 39715 --> playground\n",
      "night club 1090 --> nightclub\n",
      "carport 1250 --> car port\n",
      "rest room 1490 --> restroom\n",
      "light house 3006 --> lighthouse\n",
      "barber shop 2277 --> barbershop\n",
      "water fall 1865 --> waterfall\n",
      "oldplace 1862 --> old place\n",
      "farm house 1958 --> farmhouse\n",
      "swimmingpool 1535 --> swimming pool\n",
      "bath room 6267 --> bathroom\n",
      "water falls 3662 --> waterfalls\n",
      "road side 2140 --> roadside\n",
      "under water 1917 --> underwater\n",
      "work shop 1220 --> workshop\n",
      "class room 8978 --> classroom\n",
      "grass land 2415 --> grassland\n",
      "bed room 26106 --> bedroom\n",
      "air port 1362 --> airport\n",
      "wood house 2294 --> woodhouse\n",
      "wind mill 2384 --> windmill\n",
      "book shop 1523 --> bookshop\n"
     ]
    }
   ],
   "source": [
    "# Remove space distinction \n",
    "# (i.e. map the set of identical answers ignoring space to the most frequent one in the set)\n",
    "def removeSpaceDistinction(wordCnt, validWordThreshold=1000):\n",
    "    answersSet = defaultdict(Counter)\n",
    "    for s, v in wordCnt.iteritems():\n",
    "        s_nospace = re.sub('\\\\W+', '', s)\n",
    "        answersSet[s_nospace][s]+=v\n",
    "    updateMap = {}\n",
    "    for k, c in answersSet.iteritems():\n",
    "        bestOccur = c.most_common(1)[0][0]\n",
    "        if wordFreq[k] >= validWordThreshold:\n",
    "            t = k\n",
    "        else:\n",
    "            t = bestOccur\n",
    "        for s in c:\n",
    "            updateMap[s] = t\n",
    "    return updateMap\n",
    "fullUpdate(removeSpaceDistinction, warningThreshold=1000)"
   ]
  },
  {
   "cell_type": "code",
   "execution_count": 20,
   "metadata": {
    "collapsed": false
   },
   "outputs": [
    {
     "name": "stdout",
     "output_type": "stream",
     "text": [
      "animals 2588 --> animal\n",
      "clouds 1537 --> cloud\n",
      "machines 2574 --> machine\n",
      "toys 1194 --> toy\n",
      "hotels 1088 --> hotel\n",
      "sports 3002 --> sport\n",
      "pigs 1140 --> pig\n",
      "rocks 3096 --> rock\n",
      "buildings 3126 --> building\n",
      "games 3093 --> game\n",
      "cars 1882 --> car\n",
      "waterfalls 7492 --> waterfall\n",
      "houses 1408 --> house\n",
      "palaces 3049 --> palace\n",
      "flowers 3269 --> flower\n",
      "stairs 1114 --> stair\n",
      "trees 16836 --> tree\n",
      "ruins 1458 --> ruin\n",
      "players 1178 --> player\n",
      "plants 2375 --> plant\n",
      "homes 1128 --> home\n",
      "hills 21465 --> hill\n",
      "hens 1002 --> hen\n",
      "peoples 16900 --> people\n",
      "workers 1712 --> worker\n",
      "chairs 1735 --> chair\n",
      "apartments 2598 --> apartment\n",
      "steps 12584 --> step\n",
      "childrens 1442 --> children\n",
      "mountains 4456 --> mountain\n"
     ]
    }
   ],
   "source": [
    "# Remove pular words if their corresponding singular forms exist in the dataset \n",
    "# and (are more popular) or (have more than 100 occurances)\n",
    "def handlePularWords(wordCnt, threshold=100, validWordThreshold=1000):\n",
    "    updateMap = {}\n",
    "    for s in wordCnt:\n",
    "        sing = s[:-1]\n",
    "        if s[-1] == 's' and (wordCnt[s] <= wordCnt[sing] or wordCnt[sing] >= threshold)\\\n",
    "            and wordFreq[sing] >= validWordThreshold:\n",
    "            updateMap[s] = sing\n",
    "    return updateMap\n",
    "fullUpdate(handlePularWords, warningThreshold=1000)"
   ]
  },
  {
   "cell_type": "code",
   "execution_count": 8,
   "metadata": {
    "collapsed": false
   },
   "outputs": [
    {
     "name": "stdout",
     "output_type": "stream",
     "text": [
      "WARNING - Removing entries: 36 780\n"
     ]
    }
   ],
   "source": [
    "stopWordsStr='a,able,about,across,after,all,almost,also,am,among,an,and,any,are,as,\\\n",
    "at,be,because,been,but,by,can,cannot,could,dear,did,do,does,either,else,ever,every,\\\n",
    "for,from,get,got,had,has,have,he,her,hers,him,his,how,however,i,if,in,into,is,it,its,\\\n",
    "just,least,let,like,likely,may,me,might,most,must,my,neither,nor,of,off,often,on,only,\\\n",
    "or,other,our,own,rather,said,say,says,she,should,since,so,some,than,that,the,their,them,\\\n",
    "then,there,these,they,this,tis,to,too,twas,us,want,wants,was,we,were,what,when,where,which,\\\n",
    "while,who,whom,why,will,with,would,yet,you,your,iam,going,giong,live,seeing,look,looks,no,not,image,s,photo'\n",
    "stopWords = set(stopWordsStr.split(','))\n",
    "def removeStopWords(w):\n",
    "    if w in stopWords:\n",
    "        return None\n",
    "    else:\n",
    "        return w\n",
    "fastUpdate(removeStopWords, warningThreshold=1000)"
   ]
  },
  {
   "cell_type": "code",
   "execution_count": 9,
   "metadata": {
    "collapsed": true
   },
   "outputs": [],
   "source": [
    "# Modification distance. Credit to Peter Norvig\n",
    "def edits1(word):\n",
    "   splits     = [(word[:i], word[i:]) for i in range(len(word) + 1)]\n",
    "   deletes    = [a + b[1:] for a, b in splits if b]\n",
    "   transposes = [a + b[1] + b[0] + b[2:] for a, b in splits if len(b)>1]\n",
    "   replaces   = [a + c + b[1:] for a, b in splits for c in string.ascii_lowercase if b]\n",
    "   inserts    = [a + c + b     for a, b in splits for c in string.ascii_lowercase+' ']\n",
    "   return set(deletes + transposes + replaces + inserts) - set(['', word])"
   ]
  },
  {
   "cell_type": "code",
   "execution_count": 10,
   "metadata": {
    "collapsed": false
   },
   "outputs": [
    {
     "ename": "KeyboardInterrupt",
     "evalue": "",
     "output_type": "error",
     "traceback": [
      "\u001b[1;31m---------------------------------------------------------------------------\u001b[0m",
      "\u001b[1;31mKeyboardInterrupt\u001b[0m                         Traceback (most recent call last)",
      "\u001b[1;32m<ipython-input-10-b83ede95d9af>\u001b[0m in \u001b[0;36m<module>\u001b[1;34m()\u001b[0m\n\u001b[0;32m     25\u001b[0m     \u001b[1;32mprint\u001b[0m \u001b[1;34m'-- Manual Process --'\u001b[0m\u001b[1;33m\u001b[0m\u001b[0m\n\u001b[0;32m     26\u001b[0m     \u001b[1;32mreturn\u001b[0m \u001b[0mupdateMap\u001b[0m\u001b[1;33m\u001b[0m\u001b[0m\n\u001b[1;32m---> 27\u001b[1;33m \u001b[0mfullUpdate\u001b[0m\u001b[1;33m(\u001b[0m\u001b[0mcorrectSpelling\u001b[0m\u001b[1;33m,\u001b[0m \u001b[0mwarningThreshold\u001b[0m\u001b[1;33m=\u001b[0m\u001b[1;36m1000\u001b[0m\u001b[1;33m)\u001b[0m\u001b[1;33m\u001b[0m\u001b[0m\n\u001b[0m",
      "\u001b[1;32m<ipython-input-3-665cdea4f41c>\u001b[0m in \u001b[0;36mfullUpdate\u001b[1;34m(fn, warningThreshold, enforce)\u001b[0m\n\u001b[0;32m     42\u001b[0m \u001b[1;32mdef\u001b[0m \u001b[0mfullUpdate\u001b[0m\u001b[1;33m(\u001b[0m\u001b[0mfn\u001b[0m\u001b[1;33m,\u001b[0m \u001b[0mwarningThreshold\u001b[0m\u001b[1;33m=\u001b[0m\u001b[1;36m50\u001b[0m\u001b[1;33m,\u001b[0m \u001b[0menforce\u001b[0m\u001b[1;33m=\u001b[0m\u001b[0mTrue\u001b[0m\u001b[1;33m)\u001b[0m\u001b[1;33m:\u001b[0m\u001b[1;33m\u001b[0m\u001b[0m\n\u001b[0;32m     43\u001b[0m     \u001b[0mwordCnt\u001b[0m \u001b[1;33m=\u001b[0m \u001b[0mgetWordCnt\u001b[0m\u001b[1;33m(\u001b[0m\u001b[1;33m)\u001b[0m\u001b[1;33m\u001b[0m\u001b[0m\n\u001b[1;32m---> 44\u001b[1;33m     \u001b[0mupdateMap\u001b[0m \u001b[1;33m=\u001b[0m \u001b[0mfn\u001b[0m\u001b[1;33m(\u001b[0m\u001b[0mwordCnt\u001b[0m\u001b[1;33m)\u001b[0m\u001b[1;33m\u001b[0m\u001b[0m\n\u001b[0m\u001b[0;32m     45\u001b[0m     \u001b[1;32mif\u001b[0m \u001b[0menforce\u001b[0m\u001b[1;33m:\u001b[0m \u001b[0mapplyUpdates\u001b[0m\u001b[1;33m(\u001b[0m\u001b[0mupdateMap\u001b[0m\u001b[1;33m,\u001b[0m \u001b[0mwarningThreshold\u001b[0m\u001b[1;33m)\u001b[0m\u001b[1;33m\u001b[0m\u001b[0m\n",
      "\u001b[1;32m<ipython-input-10-b83ede95d9af>\u001b[0m in \u001b[0;36mcorrectSpelling\u001b[1;34m(wordCnt, validWordThreshold, ignoreThreshold, noticeThreshold)\u001b[0m\n\u001b[0;32m     13\u001b[0m             \u001b[1;32mcontinue\u001b[0m\u001b[1;33m\u001b[0m\u001b[0m\n\u001b[0;32m     14\u001b[0m         \u001b[1;32melse\u001b[0m\u001b[1;33m:\u001b[0m\u001b[1;33m\u001b[0m\u001b[0m\n\u001b[1;32m---> 15\u001b[1;33m             \u001b[0mpo2\u001b[0m \u001b[1;33m=\u001b[0m \u001b[0mset\u001b[0m\u001b[1;33m(\u001b[0m\u001b[1;33m[\u001b[0m\u001b[0ms2\u001b[0m \u001b[1;32mfor\u001b[0m \u001b[0ms1\u001b[0m \u001b[1;32min\u001b[0m \u001b[0mpo\u001b[0m \u001b[1;32mfor\u001b[0m \u001b[0ms2\u001b[0m \u001b[1;32min\u001b[0m \u001b[0medits1\u001b[0m\u001b[1;33m(\u001b[0m\u001b[0ms1\u001b[0m\u001b[1;33m)\u001b[0m\u001b[1;33m]\u001b[0m\u001b[1;33m)\u001b[0m \u001b[1;33m|\u001b[0m \u001b[0mpo\u001b[0m\u001b[1;33m\u001b[0m\u001b[0m\n\u001b[0m\u001b[0;32m     16\u001b[0m             \u001b[0mbestRef\u001b[0m \u001b[1;33m=\u001b[0m \u001b[0mmax\u001b[0m\u001b[1;33m(\u001b[0m\u001b[0mpo2\u001b[0m\u001b[1;33m,\u001b[0m \u001b[0mkey\u001b[0m\u001b[1;33m=\u001b[0m\u001b[0mwordCnt\u001b[0m\u001b[1;33m.\u001b[0m\u001b[0mget\u001b[0m\u001b[1;33m)\u001b[0m\u001b[1;33m\u001b[0m\u001b[0m\n\u001b[0;32m     17\u001b[0m             \u001b[1;32mif\u001b[0m \u001b[0mwordFreq\u001b[0m\u001b[1;33m[\u001b[0m\u001b[0mbestRef\u001b[0m\u001b[1;33m]\u001b[0m \u001b[1;33m>=\u001b[0m \u001b[0mvalidWordThreshold\u001b[0m\u001b[1;33m:\u001b[0m\u001b[1;33m\u001b[0m\u001b[0m\n",
      "\u001b[1;32m<ipython-input-9-6edbdcc5ff97>\u001b[0m in \u001b[0;36medits1\u001b[1;34m(word)\u001b[0m\n\u001b[0;32m      6\u001b[0m    \u001b[0mreplaces\u001b[0m   \u001b[1;33m=\u001b[0m \u001b[1;33m[\u001b[0m\u001b[0ma\u001b[0m \u001b[1;33m+\u001b[0m \u001b[0mc\u001b[0m \u001b[1;33m+\u001b[0m \u001b[0mb\u001b[0m\u001b[1;33m[\u001b[0m\u001b[1;36m1\u001b[0m\u001b[1;33m:\u001b[0m\u001b[1;33m]\u001b[0m \u001b[1;32mfor\u001b[0m \u001b[0ma\u001b[0m\u001b[1;33m,\u001b[0m \u001b[0mb\u001b[0m \u001b[1;32min\u001b[0m \u001b[0msplits\u001b[0m \u001b[1;32mfor\u001b[0m \u001b[0mc\u001b[0m \u001b[1;32min\u001b[0m \u001b[0mstring\u001b[0m\u001b[1;33m.\u001b[0m\u001b[0mascii_lowercase\u001b[0m \u001b[1;32mif\u001b[0m \u001b[0mb\u001b[0m\u001b[1;33m]\u001b[0m\u001b[1;33m\u001b[0m\u001b[0m\n\u001b[0;32m      7\u001b[0m    \u001b[0minserts\u001b[0m    \u001b[1;33m=\u001b[0m \u001b[1;33m[\u001b[0m\u001b[0ma\u001b[0m \u001b[1;33m+\u001b[0m \u001b[0mc\u001b[0m \u001b[1;33m+\u001b[0m \u001b[0mb\u001b[0m     \u001b[1;32mfor\u001b[0m \u001b[0ma\u001b[0m\u001b[1;33m,\u001b[0m \u001b[0mb\u001b[0m \u001b[1;32min\u001b[0m \u001b[0msplits\u001b[0m \u001b[1;32mfor\u001b[0m \u001b[0mc\u001b[0m \u001b[1;32min\u001b[0m \u001b[0mstring\u001b[0m\u001b[1;33m.\u001b[0m\u001b[0mascii_lowercase\u001b[0m\u001b[1;33m+\u001b[0m\u001b[1;34m' '\u001b[0m\u001b[1;33m]\u001b[0m\u001b[1;33m\u001b[0m\u001b[0m\n\u001b[1;32m----> 8\u001b[1;33m    \u001b[1;32mreturn\u001b[0m \u001b[0mset\u001b[0m\u001b[1;33m(\u001b[0m\u001b[0mdeletes\u001b[0m \u001b[1;33m+\u001b[0m \u001b[0mtransposes\u001b[0m \u001b[1;33m+\u001b[0m \u001b[0mreplaces\u001b[0m \u001b[1;33m+\u001b[0m \u001b[0minserts\u001b[0m\u001b[1;33m)\u001b[0m \u001b[1;33m-\u001b[0m \u001b[0mset\u001b[0m\u001b[1;33m(\u001b[0m\u001b[1;33m[\u001b[0m\u001b[1;34m''\u001b[0m\u001b[1;33m,\u001b[0m \u001b[0mword\u001b[0m\u001b[1;33m]\u001b[0m\u001b[1;33m)\u001b[0m\u001b[1;33m\u001b[0m\u001b[0m\n\u001b[0m",
      "\u001b[1;31mKeyboardInterrupt\u001b[0m: "
     ]
    }
   ],
   "source": [
    "# Try to correct spellings\n",
    "def correctSpelling(wordCnt, validWordThreshold=1000, ignoreThreshold=10, noticeThreshold=100):\n",
    "    updateMap = {}\n",
    "    manualProcess = []\n",
    "    for s, v in wordCnt.iteritems():\n",
    "        if wordFreq[s] >= validWordThreshold:\n",
    "            continue\n",
    "        po = edits1(s)\n",
    "        bestRef = max(po, key=wordCnt.get)\n",
    "        if wordCnt[bestRef] > wordCnt[s]:\n",
    "            updateMap[s] = bestRef\n",
    "        elif v < 10:\n",
    "            continue\n",
    "        else:\n",
    "            po2 = set([s2 for s1 in po for s2 in edits1(s1)]) | po\n",
    "            bestRef = max(po2, key=wordCnt.get)\n",
    "            if wordFreq[bestRef] >= validWordThreshold:\n",
    "                updateMap[s] = bestRef\n",
    "            else:\n",
    "                if v >= noticeThreshold:\n",
    "                    manualProcess.append(s)\n",
    "    print '-- Manual Process --'\n",
    "    for s in manualProcess:\n",
    "        print s\n",
    "    print '-- Manual Process --'\n",
    "    return updateMap\n",
    "fullUpdate(correctSpelling, warningThreshold=1000)"
   ]
  },
  {
   "cell_type": "code",
   "execution_count": null,
   "metadata": {
    "collapsed": false
   },
   "outputs": [],
   "source": [
    "handConvertStr = '''\n",
    "veichile|vehicle\n",
    "planatorium|planetarium\n",
    "confrancehall|conference hall\n",
    "kitchenroom|kitchen\n",
    "accurium|aquarium\n",
    "animalshome|animal home\n",
    "liviningroom|living room\n",
    "swimmingful|swimming pool\n",
    "alecoopter|helicopter\n",
    "liabery|library\n",
    "frontviewofbuilding|front view of building\n",
    "fogplace|foggy place\n",
    "olderbuliding|older building\n",
    "tallbuildings|tall building\n",
    "photoview|photo view\n",
    "sportsroom|sports room\n",
    "archbuilding|arch building\n",
    "damagedbuilding|damaged building\n",
    "trainroute|train route\n",
    "searesearch|sea research\n",
    "sushishop|sushi shop\n",
    "grassshapes|grass shape\n",
    "damagedarticles|damaged article\n",
    "damagedthings|damaged thing\n",
    "roadview|road view\n",
    "playcourt|play court\n",
    "woodenframes|wooden frame\n",
    "riverarea|river area\n",
    "pitshop|pit shop\n",
    "rocksview|rock view\n",
    "damagedstructure|damaged structure\n",
    "steelstructures|steel structure\n",
    "sandroad|sand road\n",
    "indoorstadium|indoor stadium\n",
    "no image|\n",
    "unknown|\n",
    "mountion|mountain\n",
    "buliding|building\n",
    "bulding|building\n",
    "smallhouse|small house\n",
    "restaurent|restaurant\n",
    "shope|shop\n",
    "meating hall|meeting hall\n",
    "restarant|restaurant\n",
    "restaruant|restaurant\n",
    "restraunt|restaurant\n",
    "chruch|church\n",
    "hospitel|hospital\n",
    "hoispatl|hospital\n",
    "swiming pool|swimming pool\n",
    "swimming pal|swimming pool\n",
    "smimming place|swimming place\n",
    "smimming pool|swimming pool\n",
    "smimming room|swimming room\n",
    "parliment|parliament\n",
    "kichen room|kitchen room\n",
    "kichen|kitchen\n",
    "kicthen|kitchen\n",
    "brige|bridge\n",
    "restauant|restaurant\n",
    "railwaybalm|railway balm\n",
    "charch|church\n",
    "chirch|church\n",
    "moutain|mountain\n",
    "goverment building|government building\n",
    "seminor class|seminar class\n",
    "lakh|lake\n",
    "appartment|apartment\n",
    "multi storey building|multi story building\n",
    "bed rooms|bed room\n",
    "bed rooom|bed room\n",
    "mountan|mountain\n",
    "shoping center|shopping center\n",
    "airplan|airplane\n",
    "machinary|machinery\n",
    "machineries|machinery\n",
    "laboratary|laboratory\n",
    "lobi|lobby\n",
    "coridoor|corridor\n",
    "hallview|hall view\n",
    "delux car|deluxe car\n",
    "histrorical place|historical place\n",
    "rockfort|rock fort\n",
    "multi storeyed building|multi story building\n",
    "book centre|book center\n",
    "liberay|library\n",
    "tant|tent\n",
    "hutview|hut view\n",
    "information centre|information center\n",
    "swimmimg pool|swimming pool\n",
    "swimmingfull|swimming pool\n",
    "cinema theature|cinema theater\n",
    "theator|theater\n",
    "theatre|theater\n",
    "game centre|game center\n",
    "construciton|construction\n",
    "musiam|museum\n",
    "muzium|museum\n",
    "musem|museum\n",
    "museiam|museum\n",
    "statium|stadium\n",
    "galary|gallery\n",
    "stedum|stadium\n",
    "computersoffice|computer office\n",
    "bouth room|bathroom\n",
    "both room|bathroom\n",
    "bath room|bathroom\n",
    "bathshower|bath shower\n",
    "bustand|bus stand\n",
    "light kouse|light house\n",
    "secutity place|security place\n",
    "digg|dig\n",
    "gargen|garden\n",
    "archbridge|arch bridge\n",
    "haiway road|highway road\n",
    "shipview|ship view\n",
    "shoping|shopping\n",
    "men|man\n",
    "women|woman\n",
    "natural|nature\n",
    "tallbuildings|tall building\n",
    "restround|restaurant\n",
    "animalshome|animal home\n",
    "kitchenroom|kitchen room\n",
    "restarea|rest area\n",
    "circu|circus\n",
    "damagedstructure|damaged structure\n",
    "publicsplace|public place\n",
    "kittar|gittar\n",
    "bigbuildings|big building\n",
    "seminor|seminar\n",
    "hourbor|harbour\n",
    "fueal station|fuel station\n",
    "damagedstructures|damaged structure\n",
    "frontviewofbuildings|front view of building\n",
    "orch|arch\n",
    "fissures|fissure\n",
    "veichile|vehicle\n",
    "pigsty|pigpen\n",
    "skyview|sky view\n",
    "glasshouse|greenhouse\n",
    "mandai|mandarin\n",
    "searesearch|sea research\n",
    "steelstructures|steel structure\n",
    "gesthouse|guest house\n",
    "varandha|veranda\n",
    "borewell|borehole\n",
    "newstand|news stand\n",
    "seaview|sea view\n",
    "cemetary|cemetery\n",
    "telecaste|telecast\n",
    "frontview|front view\n",
    "railywaytrack|railway track\n",
    "kovil|koil\n",
    "gamesroom|game room\n",
    "waittinghall|waiting hall\n",
    "almirha|almirah\n",
    "oldbuildings|old building\n",
    "eatables|edible\n",
    "scenary|scenery\n",
    "piknic|picnic\n",
    "greenary|greenery\n",
    "viwepoint|viewpoint\n",
    "'''\n",
    "handConvert = {line.split('|')[0].strip():line.split('|')[1].strip()\\\n",
    "               for line in handConvertStr.split('\\n') if len(line.strip()) > 0}\n",
    "def handConvertFn(wordCnt):\n",
    "    updateMap = {}\n",
    "    for k, v in handConvert.iteritems():\n",
    "        if k not in wordCnt:\n",
    "            print 'WARNING - not used', k, '|', v\n",
    "        else:\n",
    "            updateMap[k]=v\n",
    "    return updateMap\n",
    "fullUpdate(handConvertFn)"
   ]
  },
  {
   "cell_type": "code",
   "execution_count": null,
   "metadata": {
    "collapsed": false
   },
   "outputs": [],
   "source": [
    "fastUpdate(lowercaseStripMultipleSpaces)\n",
    "fastUpdate(splitPhrases)\n",
    "fastUpdate(removeStopWords)\n",
    "fullUpdate(correctSpelling)"
   ]
  },
  {
   "cell_type": "code",
   "execution_count": null,
   "metadata": {
    "collapsed": false
   },
   "outputs": [],
   "source": [
    "# Most frequent non-dictionary word\n",
    "for k, v in getWordCnt().most_common():\n",
    "    if wordFreq[k] < 1000 and v >= 100:\n",
    "        print k, v, wordFreq[k]"
   ]
  },
  {
   "cell_type": "code",
   "execution_count": null,
   "metadata": {
    "collapsed": false
   },
   "outputs": [],
   "source": [
    "# Most common ones\n",
    "for k, v in getWordCnt().most_common(20):\n",
    "    print k, v"
   ]
  },
  {
   "cell_type": "code",
   "execution_count": null,
   "metadata": {
    "collapsed": true
   },
   "outputs": [],
   "source": [
    "# Saving file\n",
    "headers = ['category_id', 'description', 'count']\n",
    "with open('data/cat_desc.csv', 'w') as fout:\n",
    "    csvWriter = csv.writer(fout)\n",
    "    csvWriter.writerow(headers)\n",
    "    for word, dist in wordCatCnt.iteritems():\n",
    "        for cat, v in dist.iteritems():\n",
    "            csvWriter.writerow((cat, word, v))"
   ]
  },
  {
   "cell_type": "code",
   "execution_count": null,
   "metadata": {
    "collapsed": true
   },
   "outputs": [],
   "source": []
  }
 ],
 "metadata": {
  "kernelspec": {
   "display_name": "Python 2",
   "language": "python",
   "name": "python2"
  },
  "language_info": {
   "codemirror_mode": {
    "name": "ipython",
    "version": 2
   },
   "file_extension": ".py",
   "mimetype": "text/x-python",
   "name": "python",
   "nbconvert_exporter": "python",
   "pygments_lexer": "ipython2",
   "version": "2.7.6"
  }
 },
 "nbformat": 4,
 "nbformat_minor": 0
}
