{
 "cells": [
  {
   "cell_type": "markdown",
   "metadata": {},
   "source": [
    "Cleaning up description dataset - grounding everything to wordnet\n",
    "================================"
   ]
  },
  {
   "cell_type": "code",
   "execution_count": 1,
   "metadata": {
    "collapsed": true
   },
   "outputs": [],
   "source": [
    "from string import letters, punctuation, whitespace, printable, digits\n",
    "import csv\n",
    "import re\n",
    "import string\n",
    "from collections import Counter, defaultdict\n",
    "from nltk.corpus import wordnet as wn\n",
    "import numpy as np"
   ]
  },
  {
   "cell_type": "code",
   "execution_count": 2,
   "metadata": {
    "collapsed": false
   },
   "outputs": [
    {
     "name": "stdout",
     "output_type": "stream",
     "text": [
      "['image_filename', 'image_category_id', 'description']\n",
      "True\n"
     ]
    }
   ],
   "source": [
    "# Load file\n",
    "wordCatCnt = defaultdict(Counter)\n",
    "rawDescHeaders = None\n",
    "catSet = set()\n",
    "with open('rawDesc.csv') as fin:\n",
    "    csvReader = csv.reader(fin)\n",
    "    for row in csvReader:\n",
    "        if rawDescHeaders is None:\n",
    "            rawDescHeaders = row\n",
    "        else:\n",
    "            img, cat, desc = row\n",
    "            cat = int(cat) - 1\n",
    "            wordCatCnt[desc][cat] += 1\n",
    "            catSet.add(cat)\n",
    "print rawDescHeaders\n",
    "print range(len(catSet)) == sorted(list(catSet))\n",
    "numCat = len(catSet)\n",
    "wordVec = {}\n",
    "for word, dist in wordCatCnt.iteritems():\n",
    "    tmp = np.zeros(numCat, dtype=np.float_)\n",
    "    for c, v in dist.iteritems():\n",
    "        tmp[c] = v\n",
    "    wordVec[word] = tmp"
   ]
  },
  {
   "cell_type": "code",
   "execution_count": 3,
   "metadata": {
    "collapsed": true
   },
   "outputs": [],
   "source": [
    "# Result stockpile\n",
    "wordVecPerfect = {}\n",
    "s2h = lambda w: w.replace(' ', '_')\n",
    "def filterPerfectDesc(cntThreshold=10):\n",
    "    cntTrfr = 0\n",
    "    cntTrfrSum = 0\n",
    "    toRm = []\n",
    "    for w in wordVec:\n",
    "        tmp = wn.morphy(s2h(w))\n",
    "        if tmp is not None and (tmp in wordVecPerfect or np.sum(wordVec[w]) >= cntThreshold):\n",
    "            cntTrfr += 1\n",
    "            cntTrfrSum += np.sum(wordVec[w])\n",
    "            if tmp in wordVecPerfect:\n",
    "                wordVecPerfect[tmp] += wordVec[w]\n",
    "            else:\n",
    "                wordVecPerfect[tmp] = wordVec[w]\n",
    "            toRm.append(w)\n",
    "    for w in toRm:\n",
    "        del wordVec[w]\n",
    "    print 'NEW PERFECT DESC', cntTrfr, cntTrfrSum\n",
    "inWN = lambda w: wn.morphy(s2h(w)) is not None\n",
    "phraseInWN = lambda p: all(inWN(s) for s in p.split())\n",
    "wnStrip = lambda s: ' '.join([wn.morphy(s2h(x)) for x in s.split()])\n",
    "toWN = lambda s: wn.morphy(s2h(s))\n",
    "def statWV(wv):\n",
    "    print len(wv), sum(np.sum(v) for v in wv.itervalues())"
   ]
  },
  {
   "cell_type": "code",
   "execution_count": 4,
   "metadata": {
    "collapsed": true
   },
   "outputs": [],
   "source": [
    "# Make string updates faster\n",
    "def applyUpdates(updateMap, warningThreshold=50, cntThreshold=10):\n",
    "    removalWarning = 0\n",
    "    removalWarningSum = 0\n",
    "    cntTrfr = 0\n",
    "    cntTrfrSum = 0\n",
    "    for w in updateMap:\n",
    "        if w in wordVec:\n",
    "            t = updateMap[w]\n",
    "            if w == t: continue\n",
    "            vec = wordVec[w]\n",
    "            del wordVec[w]\n",
    "            if np.sum(vec) >= warningThreshold:\n",
    "                print w, np.sum(vec), '-->', t\n",
    "            if t is None or len(t) == 0:\n",
    "                removalWarning += 1\n",
    "                removalWarningSum += np.sum(vec)\n",
    "            else:\n",
    "                tmp = wn.morphy(s2h(t))\n",
    "                if tmp is not None and (tmp in wordVecPerfect or np.sum(vec) >= cntThreshold):\n",
    "                    cntTrfr += 1\n",
    "                    cntTrfrSum += np.sum(vec)\n",
    "                    if tmp in wordVecPerfect:\n",
    "                        wordVecPerfect[tmp] += vec\n",
    "                    else:\n",
    "                        wordVecPerfect[tmp] = vec\n",
    "                elif t in wordVec:\n",
    "                    wordVec[t] += vec\n",
    "                else:\n",
    "                    wordVec[t] = vec\n",
    "        else:\n",
    "            print 'Update rule is not applicable: ' + w + ' --> ' + updateMap[w]\n",
    "    if removalWarning > 0:\n",
    "        print 'WARNING - Removing entries:', removalWarning, removalWarningSum\n",
    "    print 'NEW PERFECT DESC', cntTrfr, cntTrfrSum\n",
    "\n",
    "def getWordCnt(wv):\n",
    "    return Counter({w: np.sum(v) for w, v in wv.iteritems()})\n",
    "\n",
    "def fastUpdate(fn, warningThreshold=50, enforce=True):\n",
    "    updateMap = {w:fn(w) for w in wordVec.iterkeys()}\n",
    "    if enforce: applyUpdates(updateMap, warningThreshold)"
   ]
  },
  {
   "cell_type": "code",
   "execution_count": 5,
   "metadata": {
    "collapsed": true
   },
   "outputs": [],
   "source": [
    "# Word similarity in terms of category distribution\n",
    "# from scipy.stats import entropy # can't handle entropy(np.array([0, 1, 1]), np.array([0, 1, 1]))\n",
    "def entropy(P, Q):\n",
    "    mask = np.where(P != 0.0)\n",
    "    _P = P[mask]\n",
    "    _Q = Q[mask]\n",
    "    return np.sum(_P * np.log(_P / _Q))\n",
    "from numpy.linalg import norm\n",
    "def JSD(P, Q):\n",
    "    _P = P / float(norm(P, ord=1))\n",
    "    _Q = Q / float(norm(Q, ord=1))\n",
    "    _M = 0.5 * (_P + _Q)\n",
    "    return 0.5 * (entropy(_P, _M) + entropy(_Q, _M))"
   ]
  },
  {
   "cell_type": "code",
   "execution_count": 6,
   "metadata": {
    "collapsed": false
   },
   "outputs": [
    {
     "name": "stdout",
     "output_type": "stream",
     "text": [
      "127934 5117528.0\n",
      "0 0\n"
     ]
    }
   ],
   "source": [
    "statWV(wordVec)\n",
    "statWV(wordVecPerfect)"
   ]
  },
  {
   "cell_type": "code",
   "execution_count": 7,
   "metadata": {
    "collapsed": false
   },
   "outputs": [
    {
     "name": "stdout",
     "output_type": "stream",
     "text": [
      "WARNING - Removing entries: 45 51.0\n",
      "NEW PERFECT DESC 0 0\n",
      "NEW PERFECT DESC 3585 3598643.0\n",
      "WARNING - Removing entries: 5 5.0\n",
      "NEW PERFECT DESC 20 27.0\n",
      "House 22415.0 --> house\n",
      "Church 10324.0 --> church\n",
      "Mountain 18483.0 --> mountain\n",
      "Forest 19664.0 --> forest\n",
      "Garden 10108.0 --> garden\n",
      "Hall 23573.0 --> hall\n",
      "Factory 20501.0 --> factory\n",
      "Sea 10379.0 --> sea\n",
      "Shop 11444.0 --> shop\n",
      "Building 27362.0 --> building\n",
      "NEW PERFECT DESC 5708 551648.0\n",
      "WARNING - Removing entries: 16 21.0\n",
      "NEW PERFECT DESC 0 0\n",
      "i am going to the meeting hall 67.0 --> the meeting hall\n",
      "iam seeing the church 60.0 --> the church\n",
      "i am going to the stadium 70.0 --> the stadium\n",
      "i am going to the garden 68.0 --> the garden\n",
      "this is building 50.0 --> building\n",
      "iam seeing the historic building 115.0 --> the historic building\n",
      "this is a building 85.0 --> a building\n",
      "i am going to the park 191.0 --> the park\n",
      "iam seeing the building 75.0 --> the building\n",
      "it is building 1386.0 --> building\n",
      "i am going to the museum 67.0 --> the museum\n",
      "i am going to the factory 118.0 --> the factory\n",
      "iam seeing the house 91.0 --> the house\n",
      "i am going to the hotel 230.0 --> the hotel\n",
      "i am going to the shopping mall 60.0 --> the shopping mall\n",
      "iam seeing the nature 51.0 --> the nature\n",
      "seeing a building 65.0 --> a building\n",
      "i am going to the church 377.0 --> the church\n",
      "iam seeing the mountain 51.0 --> the mountain\n",
      "NEW PERFECT DESC 186 1961.0\n",
      "the museum 67.0 --> museum\n",
      "under the sea 398.0 --> under sea\n",
      "a house 73.0 --> house\n",
      "the music hall 54.0 --> music hall\n",
      "a shop 54.0 --> shop\n",
      "the garden 77.0 --> garden\n",
      "the building 78.0 --> building\n",
      "the church 442.0 --> church\n",
      "the restaurant 71.0 --> restaurant\n",
      "a room 62.0 --> room\n",
      "the mountain 68.0 --> mountain\n",
      "the hotel 244.0 --> hotel\n",
      "the home 63.0 --> home\n",
      "the park 211.0 --> park\n",
      "the stadium 71.0 --> stadium\n",
      "a building 227.0 --> building\n",
      "the meeting hall 77.0 --> meeting hall\n",
      "the road 69.0 --> road\n",
      "the shopping mall 82.0 --> shopping mall\n",
      "the factory 149.0 --> factory\n",
      "the river 55.0 --> river\n",
      "the historic building 119.0 --> historic building\n",
      "the house 137.0 --> house\n",
      "the nature 54.0 --> nature\n",
      "WARNING - Removing entries: 1 1.0\n",
      "NEW PERFECT DESC 659 5067.0\n"
     ]
    }
   ],
   "source": [
    "def removeNonPrintableAnswers(w):\n",
    "    if all(c in printable for c in w):\n",
    "        return w\n",
    "    else:\n",
    "        return None\n",
    "fastUpdate(removeNonPrintableAnswers)\n",
    "\n",
    "filterPerfectDesc()\n",
    "\n",
    "def removeNumbers(w):\n",
    "    return w.translate(None, digits)\n",
    "fastUpdate(removeNumbers)\n",
    "\n",
    "def lowercaseStripMultipleSpaces(w):\n",
    "    w = w.lower().strip()\n",
    "    return re.sub(' +',' ', w)\n",
    "fastUpdate(lowercaseStripMultipleSpaces, warningThreshold=10000)\n",
    "\n",
    "def removeUrl(w):\n",
    "    if w.startswith('http'):\n",
    "        return None\n",
    "    else:\n",
    "        return w\n",
    "fastUpdate(removeUrl)\n",
    "\n",
    "# Remove prefix\n",
    "prefixRemovalS = '''\n",
    "i am giong to\n",
    "i am going to\n",
    "iam going to\n",
    "i am seeing\n",
    "i am watching\n",
    "i want to live\n",
    "iam seeing\n",
    "seeing\n",
    "this is\n",
    "it is\n",
    "look like\n",
    "looks like\n",
    "it's\n",
    "its\n",
    "'''\n",
    "prefixBan = set(tuple(l.split()) for l in prefixRemovalS.split('\\n') if l != '')\n",
    "def removePrefixBan(w):\n",
    "    s = w.split()\n",
    "    trunc = 0\n",
    "    for pattern in prefixBan:\n",
    "        if tuple(s[:len(pattern)]) == tuple(pattern):\n",
    "            trunc = max(trunc, len(pattern))\n",
    "    return ' '.join(s[trunc:])\n",
    "fastUpdate(removePrefixBan)\n",
    "\n",
    "# Remove some stopwords\n",
    "stopWordsS='a,an,the,some' # only include very confident ones\n",
    "stopWords = set([w.lower().strip() for w in stopWordsS.split(',')])\n",
    "def removeStopWords(w):\n",
    "    s = w.split()\n",
    "    ans = []\n",
    "    for x in s:\n",
    "        if x in stopWords:\n",
    "            continue\n",
    "        else:\n",
    "            ans.append(x)\n",
    "    return ' '.join(ans)\n",
    "fastUpdate(removeStopWords)"
   ]
  },
  {
   "cell_type": "code",
   "execution_count": 8,
   "metadata": {
    "collapsed": false
   },
   "outputs": [
    {
     "name": "stdout",
     "output_type": "stream",
     "text": [
      "house & garden 71.0 --> house  and  garden\n",
      "NEW PERFECT DESC 0 0\n",
      "NEW PERFECT DESC 0 0\n",
      "house  and  garden 71.0 --> house and garden\n",
      "NEW PERFECT DESC 1 1.0\n"
     ]
    }
   ],
   "source": [
    "def replaceAmp(w):\n",
    "    return w.replace('&', ' and ')\n",
    "fastUpdate(replaceAmp)\n",
    "\n",
    "def replaceNot(w):\n",
    "    return w.replace(\"n't \", ' not ')\n",
    "fastUpdate(replaceNot)\n",
    "\n",
    "fastUpdate(lowercaseStripMultipleSpaces)"
   ]
  },
  {
   "cell_type": "code",
   "execution_count": 9,
   "metadata": {
    "collapsed": false
   },
   "outputs": [
    {
     "name": "stdout",
     "output_type": "stream",
     "text": [
      "children's park 602.0 --> child's park\n",
      "children's room 80.0 --> child's room\n",
      "NEW PERFECT DESC 4 95.0\n"
     ]
    }
   ],
   "source": [
    "def handleApos(w):\n",
    "    if \"'\" in w:\n",
    "        return w.replace(\"children's\", \"child's\").replace(\"s'\", \"'s\")\n",
    "    else:\n",
    "        return w\n",
    "fastUpdate(handleApos)"
   ]
  },
  {
   "cell_type": "code",
   "execution_count": 10,
   "metadata": {
    "collapsed": false
   },
   "outputs": [
    {
     "name": "stdout",
     "output_type": "stream",
     "text": [
      "NEW PERFECT DESC 0 0\n",
      "NEW PERFECT DESC 0 0\n"
     ]
    }
   ],
   "source": [
    "def handleHyphen(w):\n",
    "    if '-' in w:\n",
    "        if inWN(w.replace('-', '')):\n",
    "            return w.replace('-', '')\n",
    "        else:\n",
    "            return w.replace('-', ' ')\n",
    "    else:\n",
    "        return w\n",
    "fastUpdate(handleApos)\n",
    "fastUpdate(lowercaseStripMultipleSpaces)"
   ]
  },
  {
   "cell_type": "code",
   "execution_count": 11,
   "metadata": {
    "collapsed": false
   },
   "outputs": [
    {
     "name": "stdout",
     "output_type": "stream",
     "text": [
      "dentist's office 72.0 --> dentist s office\n",
      "dinning room. 162.0 --> dinning room \n",
      "multi-storeyed building 109.0 --> multi storeyed building\n",
      "bathroom. 50.0 --> bathroom \n",
      "child's park 602.0 --> child s park\n",
      "NEW PERFECT DESC 27 71.0\n",
      "dinning room  162.0 --> dinning room\n",
      "bathroom  50.0 --> bathroom\n",
      "WARNING - Removing entries: 2 8.0\n",
      "NEW PERFECT DESC 170 393.0\n"
     ]
    }
   ],
   "source": [
    "def replacePunctuation(w):\n",
    "    s = [' ' if (c in punctuation) else c for c in w]\n",
    "    return ''.join(s)\n",
    "fastUpdate(replacePunctuation)\n",
    "\n",
    "fastUpdate(lowercaseStripMultipleSpaces)"
   ]
  },
  {
   "cell_type": "code",
   "execution_count": 12,
   "metadata": {
    "collapsed": false
   },
   "outputs": [
    {
     "name": "stdout",
     "output_type": "stream",
     "text": [
      "guest house 15131.0 --> guesthouse\n",
      "bath tub 1093.0 --> bathtub\n",
      "super market 3049.0 --> supermarket\n",
      "race track 1245.0 --> racetrack\n",
      "sea shore 1765.0 --> seashore\n",
      "show room 2153.0 --> showroom\n",
      "book shop 1524.0 --> bookshop\n",
      "under sea 1163.0 --> undersea\n",
      "high way 1050.0 --> highway\n",
      "play ground 39733.0 --> playground\n",
      "play room 2260.0 --> playroom\n",
      "rest room 1494.0 --> restroom\n",
      "light house 3016.0 --> lighthouse\n",
      "barber shop 2282.0 --> barbershop\n",
      "water fall 1868.0 --> waterfall\n",
      "farm house 1960.0 --> farmhouse\n",
      "bath room 6268.0 --> bathroom\n",
      "road side 2140.0 --> roadside\n",
      "under water 1934.0 --> underwater\n",
      "work shop 1221.0 --> workshop\n",
      "guest room 2842.0 --> guestroom\n",
      "wash basin 1197.0 --> washbasin\n",
      "class room 8986.0 --> classroom\n",
      "grass land 2413.0 --> grassland\n",
      "bed room 26123.0 --> bedroom\n",
      "play school 2745.0 --> playschool\n",
      "air port 1362.0 --> airport\n",
      "water falls 3665.0 --> waterfall\n",
      "bull fight 1056.0 --> bullfight\n",
      "wind mill 2384.0 --> windmill\n",
      "store room 3613.0 --> storeroom\n",
      "NEW PERFECT DESC 753 184131.0\n",
      "NEW PERFECT DESC 6 8.0\n"
     ]
    }
   ],
   "source": [
    "# Try to remove additional space\n",
    "def removeAddiSpace(w):\n",
    "    s = w.split()\n",
    "    if len(s) == 1:\n",
    "        return w\n",
    "    else:\n",
    "        for i in xrange(len(s) - 1):\n",
    "            tmp = wn.morphy(s2h(s[i]+s[i+1]))\n",
    "            if tmp is not None:\n",
    "                return ' '.join(s[:i] + [tmp] + s[i+2:])\n",
    "        return w\n",
    "fastUpdate(removeAddiSpace, warningThreshold=1000)\n",
    "fastUpdate(removeAddiSpace)"
   ]
  },
  {
   "cell_type": "code",
   "execution_count": 13,
   "metadata": {
    "collapsed": false
   },
   "outputs": [
    {
     "name": "stdout",
     "output_type": "stream",
     "text": [
      "97121 775397.0\n",
      "2754 4342045.0\n"
     ]
    }
   ],
   "source": [
    "statWV(wordVec)\n",
    "statWV(wordVecPerfect)"
   ]
  },
  {
   "cell_type": "code",
   "execution_count": 14,
   "metadata": {
    "collapsed": false
   },
   "outputs": [
    {
     "name": "stdout",
     "output_type": "stream",
     "text": [
      "@2 billiats ['billiard', 'billiards']\n",
      "@1 soliders [u'solid', u'soldier']\n",
      "@1 shoses ['shoes', u'shoe']\n",
      "@1 saull ['skull', 'scull']\n",
      "@1 airoplane ['airplane', 'aeroplane']\n",
      "@2 sketting ['skating', u'scat']\n",
      "@2 airopline ['airplane', 'aeroplane']\n",
      "@1 skatting ['skating', u'scat']\n",
      "@1 caf ['cab', 'cap']\n",
      "@1 bons ['bones', 'bone', u'boon']\n",
      "@2 barell ['barrels', 'barrel']\n",
      "@1 shose ['shoe', 'shoes']\n",
      "@1 fales [u'fall', 'falls']\n",
      "@1 bolling ['rolling', 'bowling']\n",
      "@1 sckulls [u'scull', u'skull']\n",
      "@1 barrell ['barrels', 'barrel']\n",
      "@1 teepe ['teepee', 'tepee']\n",
      "@2 airoplan ['airplane', 'aeroplane']\n",
      "@1 fals ['false', 'falls']\n",
      "@1 barrells ['barrels', u'barrel']\n",
      "@1 teppee ['teepee', 'tepee']\n",
      "@1 shull ['skull', 'scull']\n",
      "@1 shoces ['shoes', u'shoe']\n",
      "@1 carousl ['carousal', 'carousel']\n",
      "@1 jewelery ['jewelry', 'jewellery']\n",
      "@1 modlling ['modeling', 'modelling']\n",
      "@1 wresling [u'wrest', 'wrestling']\n",
      "@2 carbur ['harbor', 'harbour']\n",
      "bulinding 4871.0 --> building\n",
      "resturant 6534.0 --> restaurant\n",
      "mountion 4929.0 --> mountain\n",
      "restuarant 4090.0 --> restaurant\n",
      "restarant 1385.0 --> restaurant\n",
      "buliding 5605.0 --> building\n",
      "childrens 1428.0 --> child\n",
      "appartment 2117.0 --> apartment\n",
      "bulding 11996.0 --> building\n",
      "mechine 2460.0 --> machine\n",
      "chruch 12531.0 --> church\n",
      "piller 1171.0 --> pillar\n",
      "swmming pool 1016.0 --> swimming_pool\n",
      "smimming pool 1426.0 --> swimming_pool\n",
      "appartments 1474.0 --> apartment\n",
      "musium 1504.0 --> museum\n",
      "restaurent 4175.0 --> restaurant\n",
      "NEW PERFECT DESC 960 99201.0\n",
      "NEW PERFECT DESC 2 2.0\n",
      "NEW PERFECT DESC 0 0\n"
     ]
    }
   ],
   "source": [
    "# Modification distance. Credit to Peter Norvig\n",
    "def editLetter(word):\n",
    "   splits     = [(word[:i], word[i:]) for i in range(len(word) + 1)]\n",
    "   deletes    = [a + b[1:] for a, b in splits if b]\n",
    "   transposes = [a + b[1] + b[0] + b[2:] for a, b in splits if len(b)>1]\n",
    "   replaces   = [a + c + b[1:] for a, b in splits for c in string.ascii_lowercase if b]\n",
    "   inserts    = [a + c + b     for a, b in splits for c in string.ascii_lowercase]\n",
    "   return set(deletes + transposes + replaces + inserts + [word])\n",
    "\n",
    "def editLetter2(word):\n",
    "    ret = set()\n",
    "    for w in editLetter(word):\n",
    "        ret.update(editLetter(w))\n",
    "    return ret\n",
    "\n",
    "def correctMisspelled1(w, jsdThreshold=0.2, cntThreshold=10):\n",
    "    if phraseInWN(w):\n",
    "        return w\n",
    "    po = editLetter(w)\n",
    "    po1 = set([x for x in po if phraseInWN(x)])\n",
    "#     if len(po1) == 1:\n",
    "#         return po1.pop()\n",
    "    po2 = set([x for x in filter(None, map(toWN, po1))\n",
    "           if x in wordVecPerfect and JSD(wordVec[w], wordVecPerfect[x]) <= jsdThreshold])\n",
    "    if len(po2) == 1:\n",
    "        return po2.pop()\n",
    "    if len(po2) > 1:\n",
    "        print '@1', w, list(po2)\n",
    "        return w\n",
    "    if np.sum(wordVec[w]) < cntThreshold:\n",
    "        return w\n",
    "    po = editLetter2(w)\n",
    "    po1 = set([x for x in filter(None, map(toWN, po))\n",
    "           if x in wordVecPerfect and JSD(wordVec[w], wordVecPerfect[x]) <= jsdThreshold])\n",
    "    if len(po1) == 1:\n",
    "        return po1.pop()\n",
    "    if len(po1) > 1:\n",
    "        print '@2', w, list(po1)\n",
    "    return w\n",
    "fastUpdate(correctMisspelled1, warningThreshold=1000)\n",
    "\n",
    "fastUpdate(removeStopWords)\n",
    "fastUpdate(removeAddiSpace)"
   ]
  },
  {
   "cell_type": "code",
   "execution_count": 15,
   "metadata": {
    "collapsed": false
   },
   "outputs": [
    {
     "name": "stdout",
     "output_type": "stream",
     "text": [
      "paddyfield 61.0 --> paddy_field\n",
      "themepark 97.0 --> theme_park\n",
      "restarea 104.0 --> rest_area\n",
      "wallpaintings 84.0 --> wall_painting\n",
      "shoppingmall 177.0 --> shopping_mall\n",
      "phonebooth 250.0 --> phone_booth\n",
      "waitingroom 559.0 --> waiting_room\n",
      "telephonebooth 225.0 --> telephone_booth\n",
      "diningroom 95.0 --> dining_room\n",
      "tajmahal 57.0 --> taj_mahal\n",
      "coolingtower 51.0 --> cooling_tower\n",
      "controlroom 104.0 --> control_room\n",
      "treehouse 269.0 --> tree_house\n",
      "drawingroom 55.0 --> drawing_room\n",
      "sitout 287.0 --> sit_out\n",
      "receptionroom 51.0 --> reception_room\n",
      "officebuildings 96.0 --> office_building\n",
      "washingmachine 104.0 --> washing_machine\n",
      "watertank 95.0 --> water_tank\n",
      "flowergarden 105.0 --> flower_garden\n",
      "townhouse 64.0 --> town_house\n",
      "livingroom 782.0 --> living_room\n",
      "carrace 68.0 --> car_race\n",
      "horserace 158.0 --> horse_race\n",
      "swimmingpool 1537.0 --> swimming_pool\n",
      "frontyard 425.0 --> front_yard\n",
      "busstop 148.0 --> bus_stop\n",
      "railwaystation 166.0 --> railway_station\n",
      "gameroom 154.0 --> game_room\n",
      "firepit 77.0 --> fire_pit\n",
      "diningarea 63.0 --> dining_area\n",
      "NEW PERFECT DESC 361 8849.0\n",
      "NEW PERFECT DESC 0 0\n",
      "NEW PERFECT DESC 767 4104.0\n"
     ]
    }
   ],
   "source": [
    "# Try to add space\n",
    "def editSpace(word):\n",
    "    return set([word[:i] + ' ' + word[i:] for i in range(1, len(word))])\n",
    "\n",
    "def addSpace1(w, leastLength=3, jsdThreshold=0.2):\n",
    "    if len(w) < leastLength * 2 or phraseInWN(w):\n",
    "        return w\n",
    "    po = editSpace(w)\n",
    "    po = [x for x in po if min(map(len, x.split())) >= leastLength]\n",
    "    po1 = set(filter(None, map(toWN, po)))\n",
    "    if len(po1) == 1:\n",
    "        return po1.pop()\n",
    "    po2 = set([x for x in po1 if x in wordVecPerfect and JSD(wordVec[w], wordVecPerfect[x]) <= jsdThreshold])\n",
    "    if len(po2) == 1:\n",
    "        return po2.pop()\n",
    "    if len(po2) > 1:\n",
    "        print w, po2\n",
    "    return w\n",
    "fastUpdate(addSpace1)\n",
    "\n",
    "fastUpdate(removeStopWords)\n",
    "filterPerfectDesc()"
   ]
  },
  {
   "cell_type": "code",
   "execution_count": 16,
   "metadata": {
    "collapsed": false
   },
   "outputs": [
    {
     "name": "stdout",
     "output_type": "stream",
     "text": [
      "95021 663241.0\n",
      "2950 4454201.0\n"
     ]
    }
   ],
   "source": [
    "statWV(wordVec)\n",
    "statWV(wordVecPerfect)"
   ]
  },
  {
   "cell_type": "code",
   "execution_count": 17,
   "metadata": {
    "collapsed": true
   },
   "outputs": [],
   "source": [
    "# Remove overly short words (<3 letters)\n",
    "for desc in filter(lambda s: len(s) < 3, wordVecPerfect.keys()):\n",
    "    del wordVecPerfect[desc]"
   ]
  },
  {
   "cell_type": "code",
   "execution_count": 18,
   "metadata": {
    "collapsed": true
   },
   "outputs": [],
   "source": [
    "# Remove single stop words and junks\n",
    "stopWordsS2 = 'a,able,about,across,after,all,almost,also,am,among,an,and,any,are,as,at,be,because,been,but,by,can,\\\n",
    "cannot,could,dear,did,do,does,either,else,ever,every,for,from,get,got,had,has,have,he,her,hers,him,his,how,however,\\\n",
    "i,if,in,into,is,it,its,just,least,let,like,likely,may,me,might,most,must,my,neither,nor,of,off,often,on,\\\n",
    "only,or,other,our,own,rather,said,say,says,she,should,since,so,some,than,that,the,their,them,then,there,these,they,\\\n",
    "this,tis,to,too,twas,us,want,wants,was,we,were,what,when,where,which,while,who,whom,why,will,with,would,yet,you,\\\n",
    "your,none,unknown,no'\n",
    "stopWords2 = [s.strip() for s in stopWordsS2.split(',') if len(s.strip()) > 0]\n",
    "for w in stopWords2:\n",
    "    if w in wordVecPerfect:\n",
    "        del wordVecPerfect[w]"
   ]
  },
  {
   "cell_type": "code",
   "execution_count": 19,
   "metadata": {
    "collapsed": false
   },
   "outputs": [
    {
     "name": "stdout",
     "output_type": "stream",
     "text": [
      "2917 4450878.0\n"
     ]
    }
   ],
   "source": [
    "statWV(wordVecPerfect)\n",
    "# Saving file\n",
    "headers = ['category_id', 'description', 'count']\n",
    "with open('cat_desc_wn.csv', 'w') as fout:\n",
    "    csvWriter = csv.writer(fout)\n",
    "    csvWriter.writerow(headers)\n",
    "    for word, vec in wordVecPerfect.iteritems():\n",
    "        for c in xrange(numCat):\n",
    "            v = int(round(vec[c]))\n",
    "            if v == 0: continue\n",
    "            csvWriter.writerow((str(c + 1), word, str(v)))"
   ]
  },
  {
   "cell_type": "code",
   "execution_count": null,
   "metadata": {
    "collapsed": true
   },
   "outputs": [],
   "source": []
  }
 ],
 "metadata": {
  "kernelspec": {
   "display_name": "Python 2",
   "language": "python",
   "name": "python2"
  },
  "language_info": {
   "codemirror_mode": {
    "name": "ipython",
    "version": 2
   },
   "file_extension": ".py",
   "mimetype": "text/x-python",
   "name": "python",
   "nbconvert_exporter": "python",
   "pygments_lexer": "ipython2",
   "version": "2.7.6"
  }
 },
 "nbformat": 4,
 "nbformat_minor": 0
}
